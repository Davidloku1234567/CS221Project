{
 "cells": [
  {
   "cell_type": "markdown",
   "metadata": {},
   "source": [
    "# Load data from csv files"
   ]
  },
  {
   "cell_type": "code",
   "execution_count": 1,
   "metadata": {},
   "outputs": [],
   "source": [
    "import pandas as pd"
   ]
  },
  {
   "cell_type": "code",
   "execution_count": 5,
   "metadata": {},
   "outputs": [],
   "source": [
    "# Read data from csv files\n",
    "label = pd.read_csv('BurnedArea-100k.csv')\n",
    "elevation = pd.read_csv('Elevation-100k.csv')\n",
    "forest = pd.read_csv('Forest-100k.csv')\n",
    "humanMod = pd.read_csv('HumanModification-100k.csv')\n",
    "leaf = pd.read_csv('LeafArea-100k.csv')\n",
    "rain = pd.read_csv('Precipitation-100k.csv')\n",
    "radiation = pd.read_csv('Radiation-100k.csv')\n",
    "soil = pd.read_csv('SoilType-100k.csv')\n",
    "temp = pd.read_csv('Temperature-100k.csv')"
   ]
  },
  {
   "cell_type": "code",
   "execution_count": 7,
   "metadata": {},
   "outputs": [
    {
     "data": {
      "text/html": [
       "<div>\n",
       "<style scoped>\n",
       "    .dataframe tbody tr th:only-of-type {\n",
       "        vertical-align: middle;\n",
       "    }\n",
       "\n",
       "    .dataframe tbody tr th {\n",
       "        vertical-align: top;\n",
       "    }\n",
       "\n",
       "    .dataframe thead th {\n",
       "        text-align: right;\n",
       "    }\n",
       "</style>\n",
       "<table border=\"1\" class=\"dataframe\">\n",
       "  <thead>\n",
       "    <tr style=\"text-align: right;\">\n",
       "      <th></th>\n",
       "      <th>system:index</th>\n",
       "      <th>elevation</th>\n",
       "    </tr>\n",
       "  </thead>\n",
       "  <tbody>\n",
       "    <tr>\n",
       "      <th>0</th>\n",
       "      <td>0_0</td>\n",
       "      <td>922</td>\n",
       "    </tr>\n",
       "    <tr>\n",
       "      <th>1</th>\n",
       "      <td>1_0</td>\n",
       "      <td>14</td>\n",
       "    </tr>\n",
       "    <tr>\n",
       "      <th>2</th>\n",
       "      <td>3_0</td>\n",
       "      <td>939</td>\n",
       "    </tr>\n",
       "    <tr>\n",
       "      <th>3</th>\n",
       "      <td>4_0</td>\n",
       "      <td>1911</td>\n",
       "    </tr>\n",
       "    <tr>\n",
       "      <th>4</th>\n",
       "      <td>5_0</td>\n",
       "      <td>295</td>\n",
       "    </tr>\n",
       "  </tbody>\n",
       "</table>\n",
       "</div>"
      ],
      "text/plain": [
       "  system:index  elevation\n",
       "0          0_0        922\n",
       "1          1_0         14\n",
       "2          3_0        939\n",
       "3          4_0       1911\n",
       "4          5_0        295"
      ]
     },
     "execution_count": 7,
     "metadata": {},
     "output_type": "execute_result"
    }
   ],
   "source": [
    "elevation.head()"
   ]
  },
  {
   "cell_type": "code",
   "execution_count": 8,
   "metadata": {},
   "outputs": [],
   "source": [
    "# Merge all dataframes via inner join\n",
    "samples = pd.merge(left=elevation, right=forest, left_on='system:index', right_on='system:index')\n",
    "samples = pd.merge(left=samples, right=humanMod, left_on='system:index', right_on='system:index')\n",
    "samples = pd.merge(left=samples, right=leaf, left_on='system:index', right_on='system:index')\n",
    "samples = pd.merge(left=samples, right=rain, left_on='system:index', right_on='system:index')\n",
    "samples = pd.merge(left=samples, right=radiation, left_on='system:index', right_on='system:index')\n",
    "samples = pd.merge(left=samples, right=soil, left_on='system:index', right_on='system:index')\n",
    "samples = pd.merge(left=samples, right=temp, left_on='system:index', right_on='system:index')"
   ]
  },
  {
   "cell_type": "code",
   "execution_count": 18,
   "metadata": {
    "collapsed": true
   },
   "outputs": [
    {
     "data": {
      "text/html": [
       "<div>\n",
       "<style scoped>\n",
       "    .dataframe tbody tr th:only-of-type {\n",
       "        vertical-align: middle;\n",
       "    }\n",
       "\n",
       "    .dataframe tbody tr th {\n",
       "        vertical-align: top;\n",
       "    }\n",
       "\n",
       "    .dataframe thead th {\n",
       "        text-align: right;\n",
       "    }\n",
       "</style>\n",
       "<table border=\"1\" class=\"dataframe\">\n",
       "  <thead>\n",
       "    <tr style=\"text-align: right;\">\n",
       "      <th></th>\n",
       "      <th>system:index</th>\n",
       "      <th>Uncertainty</th>\n",
       "    </tr>\n",
       "  </thead>\n",
       "  <tbody>\n",
       "    <tr>\n",
       "      <th>0</th>\n",
       "      <td>145_0</td>\n",
       "      <td>2</td>\n",
       "    </tr>\n",
       "    <tr>\n",
       "      <th>1</th>\n",
       "      <td>149_0</td>\n",
       "      <td>2</td>\n",
       "    </tr>\n",
       "    <tr>\n",
       "      <th>2</th>\n",
       "      <td>188_0</td>\n",
       "      <td>3</td>\n",
       "    </tr>\n",
       "    <tr>\n",
       "      <th>3</th>\n",
       "      <td>203_0</td>\n",
       "      <td>1</td>\n",
       "    </tr>\n",
       "    <tr>\n",
       "      <th>4</th>\n",
       "      <td>416_0</td>\n",
       "      <td>3</td>\n",
       "    </tr>\n",
       "  </tbody>\n",
       "</table>\n",
       "</div>"
      ],
      "text/plain": [
       "  system:index  Uncertainty\n",
       "0        145_0            2\n",
       "1        149_0            2\n",
       "2        188_0            3\n",
       "3        203_0            1\n",
       "4        416_0            3"
      ]
     },
     "execution_count": 18,
     "metadata": {},
     "output_type": "execute_result"
    }
   ],
   "source": [
    "fireIdx = label.copy()\n",
    "del fireIdx['BurnDate']\n",
    "del fireIdx['FirstDay']\n",
    "del fireIdx['LastDay']\n",
    "del fireIdx['QA']\n",
    "del fireIdx['BurnMonth']\n",
    "fireIdx.head()"
   ]
  },
  {
   "cell_type": "code",
   "execution_count": 123,
   "metadata": {},
   "outputs": [
    {
     "name": "stdout",
     "output_type": "stream",
     "text": [
      "46\n"
     ]
    }
   ],
   "source": [
    "# Label samples\n",
    "samplesCopy = samples.copy()\n",
    "samplesCopy = pd.merge(left=fireIdx, right=samplesCopy, how='right', left_on='system:index', right_on='system:index')\n",
    "\n",
    "sampleLabel = samplesCopy['Uncertainty'].fillna(100).tolist()\n",
    "firstNoFireIdx = sampleLabel.index(100)\n",
    "\n",
    "# Drop label column\n",
    "del samplesCopy['Uncertainty']\n",
    "print(len(samplesCopy.columns))\n",
    "samplesList = samplesCopy.values.tolist()\n",
    "fireSamples = samplesList[:firstNoFireIdx]\n",
    "fireUncertain = sampleLabel[:firstNoFireIdx]\n",
    "noFireSamples = samplesList[firstNoFireIdx:]\n",
    "noFireLabel = [0 for _ in range(len(noFireSamples))]"
   ]
  },
  {
   "cell_type": "code",
   "execution_count": 37,
   "metadata": {},
   "outputs": [
    {
     "name": "stdout",
     "output_type": "stream",
     "text": [
      "1051\n",
      "79537\n"
     ]
    }
   ],
   "source": [
    "print(len(fireLabel))\n",
    "print(len(noFireLabel))"
   ]
  },
  {
   "cell_type": "code",
   "execution_count": 124,
   "metadata": {
    "scrolled": true
   },
   "outputs": [],
   "source": [
    "from sklearn.model_selection import train_test_split\n",
    "X_fire_train, X_fire_test, y_fire_train, y_fire_test = train_test_split(fireSamples, fireUncertain, test_size=0.2, random_state=0)\n",
    "X_no_fire_train, X_no_fire_test, y_no_fire_train, y_no_fire_test = train_test_split(noFireSamples, noFireLabel, test_size=0.9, random_state=42)"
   ]
  },
  {
   "cell_type": "code",
   "execution_count": 43,
   "metadata": {},
   "outputs": [],
   "source": [
    "from sklearn.ensemble import RandomForestClassifier\n",
    "import numpy as np"
   ]
  },
  {
   "cell_type": "code",
   "execution_count": 84,
   "metadata": {},
   "outputs": [],
   "source": [
    "from sklearn.metrics import confusion_matrix, classification_report\n",
    "import matplotlib.pyplot as plt\n",
    "from sklearn.utils.multiclass import unique_labels"
   ]
  },
  {
   "cell_type": "markdown",
   "metadata": {},
   "source": [
    "# Binary Classification"
   ]
  },
  {
   "cell_type": "code",
   "execution_count": 206,
   "metadata": {},
   "outputs": [
    {
     "data": {
      "text/plain": [
       "0.7535545023696683"
      ]
     },
     "execution_count": 206,
     "metadata": {},
     "output_type": "execute_result"
    }
   ],
   "source": [
    "rf = RandomForestClassifier(n_estimators=50, max_features=19, max_leaf_nodes=390, max_depth=20, min_samples_leaf=1, min_samples_split=3, random_state=20, n_jobs=-1)\n",
    "y_fire_train_1 = [1 for _ in range(len(y_fire_train))]\n",
    "y_fire_test_1 = [1 for _ in range(len(y_fire_test))]\n",
    "X_train = X_fire_train + X_no_fire_train\n",
    "y_train = y_fire_train_1 + y_no_fire_train\n",
    "rf = rf.fit(X_train, y_train)\n",
    "y_fire_pred_msk = rf.predict(X_fire_test)\n",
    "np.mean(y_fire_test_1 == y_fire_pred_msk)"
   ]
  },
  {
   "cell_type": "markdown",
   "metadata": {},
   "source": [
    "# Confusion Matrix for Binary Classification"
   ]
  },
  {
   "cell_type": "code",
   "execution_count": null,
   "metadata": {},
   "outputs": [],
   "source": [
    "yy_test = y_fire_test + y_no_fire_test\n",
    "#rint(yy_test)\n",
    "print(type(y_fire_pred))\n",
    "yy_pred = np.append(y_fire_pred, y_no_fire_pred)\n",
    "cm = confusion_matrix(yy_test, yy_pred)\n",
    "\n",
    "# Only uses the labels that appear in the data\n",
    "labels = unique_labels(yy_test, yy_pred)\n",
    "#print(cm)\n",
    "\n",
    "fig, ax = plt.subplots()\n",
    "im = ax.imshow(cm, interpolation='nearest', cmap=plt.cm.Blues)\n",
    "ax.figure.colorbar(im, ax=ax)\n",
    "ax.set(xticks=np.arange(cm.shape[1]),\n",
    "           yticks=np.arange(cm.shape[0]),\n",
    "           # ... and label them with the respective list entries\n",
    "           xticklabels=labels, yticklabels=labels,\n",
    "           ylabel='Fact',\n",
    "           xlabel='Prediction')\n",
    "# Rotate the tick labels and set their alignment.\n",
    "plt.setp(ax.get_xticklabels(), rotation=45, ha=\"right\", rotation_mode=\"anchor\")\n",
    "fig.tight_layout()"
   ]
  },
  {
   "cell_type": "markdown",
   "metadata": {},
   "source": [
    "# Hyperparamters Adjust to avoid outfit"
   ]
  },
  {
   "cell_type": "code",
   "execution_count": 99,
   "metadata": {
    "scrolled": true
   },
   "outputs": [],
   "source": [
    "# Dynamics of max_features\n",
    "feature_number = []\n",
    "predic = []\n",
    "for i in range(1, 47):\n",
    "    rf = RandomForestClassifier(n_estimators=50, max_features=i, random_state=20, n_jobs=-1)\n",
    "    X_train = X_fire_train + X_no_fire_train\n",
    "    y_train = y_fire_train + y_no_fire_train\n",
    "    rf = rf.fit(X_train, y_train)\n",
    "    y_fire_pred = rf.predict(X_fire_test)\n",
    "    predic.append(np.mean(y_fire_test == y_fire_pred))\n",
    "    feature_number.append(i)"
   ]
  },
  {
   "cell_type": "code",
   "execution_count": 195,
   "metadata": {},
   "outputs": [
    {
     "data": {
      "text/plain": [
       "[<matplotlib.lines.Line2D at 0x24125a05dd8>]"
      ]
     },
     "execution_count": 195,
     "metadata": {},
     "output_type": "execute_result"
    },
    {
     "data": {
      "image/png": "[encoded data removed]",
      "text/plain": [
       "<Figure size 432x288 with 1 Axes>"
      ]
     },
     "metadata": {
      "needs_background": "light"
     },
     "output_type": "display_data"
    }
   ],
   "source": [
    "# Dynamics of max_leaf_nodes\n",
    "max_leaf = []\n",
    "predic = []\n",
    "for i in range(140, 200):\n",
    "    rf = RandomForestClassifier(n_estimators=50, max_features=19, max_leaf_nodes=i*2, random_state=20, n_jobs=-1)\n",
    "    X_train = X_fire_train + X_no_fire_train\n",
    "    y_train = y_fire_train + y_no_fire_train\n",
    "    rf = rf.fit(X_train, y_train)\n",
    "    y_fire_pred = rf.predict(X_fire_test)\n",
    "    predic.append(np.mean(y_fire_test == y_fire_pred))\n",
    "    max_leaf.append(i*2)\n",
    "plt.plot(max_leaf, predic)"
   ]
  },
  {
   "cell_type": "code",
   "execution_count": 199,
   "metadata": {},
   "outputs": [
    {
     "data": {
      "text/plain": [
       "[<matplotlib.lines.Line2D at 0x241249c6b70>]"
      ]
     },
     "execution_count": 199,
     "metadata": {},
     "output_type": "execute_result"
    },
    {
     "data": {
      "image/png": "[encoded data removed]",
      "text/plain": [
       "<Figure size 432x288 with 1 Axes>"
      ]
     },
     "metadata": {
      "needs_background": "light"
     },
     "output_type": "display_data"
    }
   ],
   "source": [
    "# Dynamics of max_depth\n",
    "depth = []\n",
    "predic = []\n",
    "for i in range(1, 20):\n",
    "    rf = RandomForestClassifier(n_estimators=50, max_features=19, max_leaf_nodes=390, max_depth=i*2, random_state=20, n_jobs=-1)\n",
    "    X_train = X_fire_train + X_no_fire_train\n",
    "    y_train = y_fire_train + y_no_fire_train\n",
    "    rf = rf.fit(X_train, y_train)\n",
    "    y_fire_pred = rf.predict(X_fire_test)\n",
    "    predic.append(np.mean(y_fire_test == y_fire_pred))\n",
    "    depth.append(i*2)\n",
    "plt.plot(depth, predic)"
   ]
  },
  {
   "cell_type": "code",
   "execution_count": 193,
   "metadata": {},
   "outputs": [
    {
     "data": {
      "text/plain": [
       "[<matplotlib.lines.Line2D at 0x24125bdeb00>]"
      ]
     },
     "execution_count": 193,
     "metadata": {},
     "output_type": "execute_result"
    },
    {
     "data": {
      "image/png": "[encoded data removed]",
      "text/plain": [
       "<Figure size 432x288 with 1 Axes>"
      ]
     },
     "metadata": {
      "needs_background": "light"
     },
     "output_type": "display_data"
    }
   ],
   "source": [
    "# Dynamics of min_samples_leaf\n",
    "leaf = []\n",
    "predic = []\n",
    "for i in range(1, 10):\n",
    "    rf = RandomForestClassifier(n_estimators=50, min_samples_leaf=i, random_state=20, n_jobs=-1)\n",
    "    X_train = X_fire_train + X_no_fire_train\n",
    "    y_train = y_fire_train + y_no_fire_train\n",
    "    rf = rf.fit(X_train, y_train)\n",
    "    y_fire_pred = rf.predict(X_fire_test)\n",
    "    predic.append(np.mean(y_fire_test == y_fire_pred))\n",
    "    leaf.append(i)\n",
    "plt.plot(leaf, predic)"
   ]
  },
  {
   "cell_type": "code",
   "execution_count": 204,
   "metadata": {},
   "outputs": [
    {
     "data": {
      "text/plain": [
       "[<matplotlib.lines.Line2D at 0x2411fe07630>]"
      ]
     },
     "execution_count": 204,
     "metadata": {},
     "output_type": "execute_result"
    },
    {
     "data": {
      "image/png": "[encoded data removed]",
      "text/plain": [
       "<Figure size 432x288 with 1 Axes>"
      ]
     },
     "metadata": {
      "needs_background": "light"
     },
     "output_type": "display_data"
    }
   ],
   "source": [
    "# Dynamics of min_samples_split\n",
    "split = []\n",
    "predic = []\n",
    "for i in range(2, 10):\n",
    "    rf = RandomForestClassifier(n_estimators=50, max_leaf_nodes=390, max_depth=20, min_samples_leaf=1, min_samples_split=i, random_state=20, n_jobs=-1)\n",
    "    X_train = X_fire_train + X_no_fire_train\n",
    "    y_train = y_fire_train + y_no_fire_train\n",
    "    rf = rf.fit(X_train, y_train)\n",
    "    y_fire_pred = rf.predict(X_fire_test)\n",
    "    predic.append(np.mean(y_fire_test == y_fire_pred))\n",
    "    split.append(i)\n",
    "plt.plot(split, predic)"
   ]
  },
  {
   "cell_type": "code",
   "execution_count": 117,
   "metadata": {
    "scrolled": false
   },
   "outputs": [
    {
     "data": {
      "text/plain": [
       "[('system:index', 0.009930155040047555),\n",
       " ('elevation', 0.013498682898465352),\n",
       " ('fnf', 0.0017655181609825348),\n",
       " ('gHM', 0.019824183162524624),\n",
       " ('Fpar', 0.02762596727494695),\n",
       " ('FparExtra_QC', 0.008120551467234975),\n",
       " ('FparLai_QC', 0.0016796477623498153),\n",
       " ('FparStdDev', 0.018137092299869133),\n",
       " ('Lai', 0.02058386223340125),\n",
       " ('LaiStdDev', 0.010231918246334295),\n",
       " ('apr', 0.01142362568936664),\n",
       " ('aug', 0.012278413433161398),\n",
       " ('dec', 0.025604653223590314),\n",
       " ('feb', 0.04145649342701823),\n",
       " ('jan', 0.02829364268307765),\n",
       " ('jul', 0.010262768202345573),\n",
       " ('jun', 0.0063906448039201145),\n",
       " ('mar', 0.019214091921095813),\n",
       " ('may', 0.029457737307380324),\n",
       " ('nov', 0.01447288399932782),\n",
       " ('oct', 0.04490112133055457),\n",
       " ('sep', 0.008536749821565043),\n",
       " ('bi', 0.023112989306202772),\n",
       " ('erc', 0.0208792678394877),\n",
       " ('eto', 0.019201176656506985),\n",
       " ('etr', 0.017959331471854374),\n",
       " ('fm100', 0.01358446830296671),\n",
       " ('fm1000', 0.019954954034818194),\n",
       " ('pr', 0.022909201336616274),\n",
       " ('rmax', 0.0173209786711317),\n",
       " ('rmin', 0.027719968834593288),\n",
       " ('sph', 0.016798761302865877),\n",
       " ('srad', 0.05628213956757001),\n",
       " ('th', 0.05285093286545725),\n",
       " ('tmmn', 0.028784680411635323),\n",
       " ('tmmx', 0.019291793930593118),\n",
       " ('vpd', 0.03074775991517154),\n",
       " ('vs', 0.0665435996393686),\n",
       " ('b1', 0.01831770996700603),\n",
       " ('ppt', 0.017616763271011922),\n",
       " ('tdmean', 0.02201950885431149),\n",
       " ('tmax', 0.015358176795733085),\n",
       " ('tmean', 0.02211673003103437),\n",
       " ('tmin', 0.019469185061915015),\n",
       " ('vpdmax', 0.01716997985509721),\n",
       " ('vpdmin', 0.03029953768849139)]"
      ]
     },
     "execution_count": 117,
     "metadata": {},
     "output_type": "execute_result"
    }
   ],
   "source": [
    "ws = list(zip(samplesCopy.columns, rf.feature_importances_))\n",
    "ws"
   ]
  },
  {
   "cell_type": "code",
   "execution_count": 118,
   "metadata": {},
   "outputs": [
    {
     "data": {
      "text/plain": [
       "0.9921770227983907"
      ]
     },
     "execution_count": 118,
     "metadata": {},
     "output_type": "execute_result"
    }
   ],
   "source": [
    "y_no_fire_pred = rf.predict(X_no_fire_test)\n",
    "np.mean(y_no_fire_pred == y_no_fire_test)\n",
    "\n",
    "#print(y_fire_pred)\n",
    "#print(y_no_fire_test)\n",
    "#print(y_no_fire_pred)\n",
    "#print(np.mean((y_no_fire_pred + y_fire_pred) == (y_no_fire_test + y_fire_pred)))"
   ]
  },
  {
   "cell_type": "markdown",
   "metadata": {},
   "source": [
    "# Multi-Classification"
   ]
  },
  {
   "cell_type": "code",
   "execution_count": 200,
   "metadata": {},
   "outputs": [
    {
     "name": "stdout",
     "output_type": "stream",
     "text": [
      "0.22748815165876776\n",
      "0.7061611374407583\n"
     ]
    }
   ],
   "source": [
    "rf2 = RandomForestClassifier(n_estimators=5, max_features=38, max_leaf_nodes=116, max_depth=2, random_state=20, n_jobs=-1)\n",
    "rf2 = rf2.fit(X_fire_train, y_fire_train)\n",
    "y_fire_pred_multi = rf2.predict(X_fire_test)\n",
    "print(np.mean((y_fire_test == y_fire_pred_multi) * y_fire_pred_msk))\n",
    "result = []\n",
    "for i, true_val in enumerate(y_fire_test):\n",
    "    if abs(true_val - y_fire_pred_multi[i]) < 6:\n",
    "        result.append(1)\n",
    "    else:\n",
    "        result.append(0)\n",
    "print(np.mean(result * y_fire_pred_msk))\n",
    "#np.mean(result)"
   ]
  },
  {
   "cell_type": "markdown",
   "metadata": {},
   "source": [
    "# Confusion Matrix for Multi-Classification"
   ]
  },
  {
   "cell_type": "code",
   "execution_count": 201,
   "metadata": {},
   "outputs": [
    {
     "data": {
      "image/png": "[encoded data removed]",
      "text/plain": [
       "<Figure size 432x288 with 2 Axes>"
      ]
     },
     "metadata": {
      "needs_background": "light"
     },
     "output_type": "display_data"
    }
   ],
   "source": [
    "y_test_multi = y_fire_test * y_fire_pred_msk\n",
    "y_pred_multi = y_fire_pred_multi * y_fire_pred_msk\n",
    "cm = confusion_matrix(y_test_multi, y_pred_multi)\n",
    "\n",
    "# Only uses the labels that appear in the data\n",
    "labels = unique_labels(y_test_multi, y_pred_multi)\n",
    "#print(cm)\n",
    "\n",
    "fig, ax = plt.subplots()\n",
    "im = ax.imshow(cm, interpolation='nearest', cmap=plt.cm.Blues)\n",
    "ax.figure.colorbar(im, ax=ax)\n",
    "ax.set(xticks=np.arange(cm.shape[1]),\n",
    "           yticks=np.arange(cm.shape[0]),\n",
    "           # ... and label them with the respective list entries\n",
    "           xticklabels=labels, yticklabels=labels,\n",
    "           ylabel='Fact',\n",
    "           xlabel='Prediction')\n",
    "# Rotate the tick labels and set their alignment.\n",
    "plt.setp(ax.get_xticklabels(), rotation=45, ha=\"right\", rotation_mode=\"anchor\")\n",
    "fig.tight_layout()"
   ]
  },
  {
   "cell_type": "code",
   "execution_count": 161,
   "metadata": {},
   "outputs": [
    {
     "data": {
      "image/png": "[encoded data removed]",
      "text/plain": [
       "<Figure size 432x288 with 1 Axes>"
      ]
     },
     "metadata": {
      "needs_background": "light"
     },
     "output_type": "display_data"
    }
   ],
   "source": [
    "# Dynamics of max_features\n",
    "feature_num = []\n",
    "predic = []\n",
    "for i in range(1, 47):\n",
    "    rf2 = RandomForestClassifier(n_estimators=5, max_features=i, random_state=20, n_jobs=-1)\n",
    "    rf2 = rf2.fit(X_fire_train, y_fire_train)\n",
    "    y_fire_pred_multi = rf2.predict(X_fire_test)\n",
    "    predic.append(np.mean(y_fire_test == y_fire_pred_multi))\n",
    "    feature_num.append(i)\n",
    "    plt.plot(feature_num, predic)"
   ]
  },
  {
   "cell_type": "code",
   "execution_count": 169,
   "metadata": {},
   "outputs": [
    {
     "data": {
      "text/plain": [
       "[<matplotlib.lines.Line2D at 0x24125ce4cc0>]"
      ]
     },
     "execution_count": 169,
     "metadata": {},
     "output_type": "execute_result"
    },
    {
     "data": {
      "image/png": "[encoded data removed]",
      "text/plain": [
       "<Figure size 432x288 with 1 Axes>"
      ]
     },
     "metadata": {
      "needs_background": "light"
     },
     "output_type": "display_data"
    }
   ],
   "source": [
    "# Dynamics of max_leaf_nodes\n",
    "max_leaf = []\n",
    "predic = []\n",
    "for i in range(10, 100):\n",
    "    rf2 = RandomForestClassifier(n_estimators=5, max_features=38, max_leaf_nodes=i*2, random_state=20, n_jobs=-1)\n",
    "    rf2 = rf2.fit(X_fire_train, y_fire_train)\n",
    "    y_fire_pred_multi = rf2.predict(X_fire_test)\n",
    "    predic.append(np.mean(y_fire_test == y_fire_pred_multi))\n",
    "    max_leaf.append(i*2)\n",
    "plt.plot(max_leaf, predic)"
   ]
  },
  {
   "cell_type": "code",
   "execution_count": 172,
   "metadata": {},
   "outputs": [
    {
     "data": {
      "text/plain": [
       "[<matplotlib.lines.Line2D at 0x24125d4e630>]"
      ]
     },
     "execution_count": 172,
     "metadata": {},
     "output_type": "execute_result"
    },
    {
     "data": {
      "image/png": "[encoded data removed]",
      "text/plain": [
       "<Figure size 432x288 with 1 Axes>"
      ]
     },
     "metadata": {
      "needs_background": "light"
     },
     "output_type": "display_data"
    }
   ],
   "source": [
    "# Dynamics of max_depths\n",
    "depth = []\n",
    "predic = []\n",
    "for i in range(10, 100):\n",
    "    rf2 = RandomForestClassifier(n_estimators=5, max_features=38, max_leaf_nodes=116, max_depth=i*2, random_state=20, n_jobs=-1)\n",
    "    rf2 = rf2.fit(X_fire_train, y_fire_train)\n",
    "    y_fire_pred_multi = rf2.predict(X_fire_test)\n",
    "    predic.append(np.mean(y_fire_test == y_fire_pred_multi))\n",
    "    depth.append(i*2)\n",
    "plt.plot(depth, predic)"
   ]
  },
  {
   "cell_type": "markdown",
   "metadata": {},
   "source": [
    "# Metrics"
   ]
  },
  {
   "cell_type": "code",
   "execution_count": 120,
   "metadata": {},
   "outputs": [
    {
     "name": "stdout",
     "output_type": "stream",
     "text": [
      "              precision    recall  f1-score   support\n",
      "\n",
      "           0       1.00      0.99      1.00     71584\n",
      "           1       0.22      0.75      0.34       211\n",
      "\n",
      "    accuracy                           0.99     71795\n",
      "   macro avg       0.61      0.87      0.67     71795\n",
      "weighted avg       1.00      0.99      0.99     71795\n",
      "\n"
     ]
    }
   ],
   "source": [
    "print(classification_report(yy_test, yy_pred))"
   ]
  }
 ],
 "metadata": {
  "kernelspec": {
   "display_name": "Python 3",
   "language": "python",
   "name": "python3"
  },
  "language_info": {
   "codemirror_mode": {
    "name": "ipython",
    "version": 3
   },
   "file_extension": ".py",
   "mimetype": "text/x-python",
   "name": "python",
   "nbconvert_exporter": "python",
   "pygments_lexer": "ipython3",
   "version": "3.7.3"
  }
 },
 "nbformat": 4,
 "nbformat_minor": 2
}
