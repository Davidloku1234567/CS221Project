{
 "cells": [
  {
   "cell_type": "markdown",
   "metadata": {},
   "source": [
    "# Load data from csv files"
   ]
  },
  {
   "cell_type": "code",
   "execution_count": 55,
   "metadata": {},
   "outputs": [],
   "source": [
    "import pandas as pd\n",
    "\n",
    "# burned_area = pd.read_excel('burn_data.xlsx', sheetname='Burned_Area')\n",
    "# temperature = pd.read_excel('burn_data.xlsx', sheetname='Temperature')\n",
    "# leaf_area = pd.read_excel('burn_data.xlsx', sheetname='Leaf_Area')"
   ]
  },
  {
   "cell_type": "code",
   "execution_count": 134,
   "metadata": {},
   "outputs": [],
   "source": [
    "# Merge three csv files according to the column of 'system:index'\n",
    "# 1. Merge \"temperature\" and \"leaf_area\" into temp_leaf by inner_join\n",
    "# 2. Merge \"burn_area\" and temp_leaf into burned_temp_leaf by right_join\n",
    "# If a csv file doesn't have matched 'system:index' value, the field value is 'nan'\n",
    "# Reference link: https://datacarpentry.org/python-ecology-lesson/05-merging-data/index.html\n",
    "# temp_leaf = pd.merge(left=temperature, right=leaf_area, left_on='system:index', right_on='system:index') \n",
    "# burned_temp_leaf = pd.merge(left=burned_area, right=temp_leaf, how='right', left_on='system:index', right_on='system:index')\n",
    "# print(burned_temp_leaf.columns)\n",
    "burned_temp_leaf = pd.read_excel('../data/all_training_data.xlsx')\n",
    "# burned_temp_leaf = pd.read_excel('burned_temp_leaf.xlsx')\n",
    "#print(btl)"
   ]
  },
  {
   "cell_type": "code",
   "execution_count": 135,
   "metadata": {},
   "outputs": [],
   "source": [
    "#burned_temp_leaf.to_excel('burned_temp_leaf.xlsx')"
   ]
  },
  {
   "cell_type": "code",
   "execution_count": 136,
   "metadata": {},
   "outputs": [],
   "source": [
    "# Fill in 100 for the uncertainty of date has no fire\n",
    "y = burned_temp_leaf['Uncertainty'].fillna(100).values.tolist()\n",
    "\n",
    "# Prune the unuseful columns\n",
    "del burned_temp_leaf['system:index']\n",
    "del burned_temp_leaf['BurnDate']\n",
    "del burned_temp_leaf['FirstDay']\n",
    "del burned_temp_leaf['LastDay']\n",
    "del burned_temp_leaf['QA']\n",
    "del burned_temp_leaf['Uncertainty']\n",
    "\n",
    "# del burned_temp_leaf['ppt']   # No contribution\n",
    "# del burned_temp_leaf['tdmean'] # No contribution\n",
    "# #del burned_temp_leaf['tmax']\n",
    "# del burned_temp_leaf['tmean']  # Degrade\n",
    "# del burned_temp_leaf['tmin']   # Degrade\n",
    "\n",
    "#del burned_temp_leaf['vpdmax']\n",
    "# del burned_temp_leaf['vpdmin'] # Degrade\n",
    "del burned_temp_leaf['Fpar'] # No contribution\n",
    "#del burned_temp_leaf['FparExtra_QC'] # No contribution\n",
    "del burned_temp_leaf['FparLai_QC'] # No contribution\n",
    "del burned_temp_leaf['FparStdDev'] # No contribution\n",
    "del burned_temp_leaf['Lai'] # No contribution\n",
    "#del burned_temp_leaf['LaiStdDev']\n",
    "\n",
    "del burned_temp_leaf['.geo']\n",
    "\n",
    "\n",
    "X = burned_temp_leaf.values.tolist()"
   ]
  },
  {
   "cell_type": "code",
   "execution_count": 137,
   "metadata": {
    "scrolled": true
   },
   "outputs": [],
   "source": [
    "from sklearn.model_selection import train_test_split\n",
    "X_fire = X[:1064]\n",
    "y_fire = y[:1064]\n",
    "X_nofire = X[1064:]\n",
    "y_nofire = y[1064:]\n",
    "X_fire_train, X_fire_test, y_fire_train, y_fire_test = train_test_split(X_fire, y_fire, test_size=0.25, random_state=42)\n",
    "X_nofire_train, X_nofire_test, y_nofire_train, y_nofire_test = train_test_split(X_nofire, y_nofire, test_size=0.10, random_state=42)\n",
    "# print(X_fire)\n",
    "# print(y_fire)"
   ]
  },
  {
   "cell_type": "markdown",
   "metadata": {},
   "source": [
    "# Regression"
   ]
  },
  {
   "cell_type": "code",
   "execution_count": 130,
   "metadata": {},
   "outputs": [
    {
     "name": "stderr",
     "output_type": "stream",
     "text": [
      "/usr/local/lib/python3.6/site-packages/sklearn/linear_model/logistic.py:947: ConvergenceWarning: lbfgs failed to converge. Increase the number of iterations.\n",
      "  \"of iterations.\", ConvergenceWarning)\n"
     ]
    }
   ],
   "source": [
    "from sklearn.linear_model import LogisticRegression\n",
    "lr = LogisticRegression(solver='lbfgs', multi_class='multinomial', max_iter=50000)\n",
    "lr = lr.fit(X_fire_train, y_fire_train)"
   ]
  },
  {
   "cell_type": "code",
   "execution_count": 131,
   "metadata": {},
   "outputs": [],
   "source": [
    "y_fire_pred = lr.predict(X_fire_test)\n",
    "#y_nofire_pred = lr.predict(X_nofire_test)"
   ]
  },
  {
   "cell_type": "code",
   "execution_count": 132,
   "metadata": {},
   "outputs": [
    {
     "name": "stdout",
     "output_type": "stream",
     "text": [
      "0.3458646616541353\n"
     ]
    }
   ],
   "source": [
    "import numpy as np\n",
    "print(np.mean(y_fire_pred == y_fire_test))\n",
    "#print(np.mean(y_nofire_pred == y_nofire_test))\n",
    "#print(y_fire_pred)\n",
    "#print(y_fire_test)"
   ]
  },
  {
   "cell_type": "code",
   "execution_count": 133,
   "metadata": {},
   "outputs": [
    {
     "data": {
      "image/png": "[encoded data removed]",
      "text/plain": [
       "<Figure size 432x288 with 2 Axes>"
      ]
     },
     "metadata": {
      "needs_background": "light"
     },
     "output_type": "display_data"
    }
   ],
   "source": [
    "from sklearn.metrics import confusion_matrix\n",
    "import matplotlib.pyplot as plt\n",
    "from sklearn.utils.multiclass import unique_labels\n",
    "\n",
    "cm = confusion_matrix(y_fire_test, y_fire_pred)\n",
    "\n",
    "# Only uses the labels that appear in the data\n",
    "labels = unique_labels(y_fire_test, y_fire_pred)\n",
    "#print(cm)\n",
    "\n",
    "fig, ax = plt.subplots()\n",
    "im = ax.imshow(cm, interpolation='nearest', cmap=plt.cm.Blues)\n",
    "ax.figure.colorbar(im, ax=ax)\n",
    "ax.set(xticks=np.arange(cm.shape[1]),\n",
    "           yticks=np.arange(cm.shape[0]),\n",
    "           # ... and label them with the respective list entries\n",
    "           xticklabels=labels, yticklabels=labels,\n",
    "           ylabel='True Uncertainty',\n",
    "           xlabel='Predicted Uncertainty')\n",
    "# Rotate the tick labels and set their alignment.\n",
    "plt.setp(ax.get_xticklabels(), rotation=45, ha=\"right\", rotation_mode=\"anchor\")\n",
    "fig.tight_layout()"
   ]
  },
  {
   "cell_type": "code",
   "execution_count": null,
   "metadata": {},
   "outputs": [],
   "source": []
  }
 ],
 "metadata": {
  "kernelspec": {
   "display_name": "Python 3",
   "language": "python",
   "name": "python3"
  },
  "language_info": {
   "codemirror_mode": {
    "name": "ipython",
    "version": 3
   },
   "file_extension": ".py",
   "mimetype": "text/x-python",
   "name": "python",
   "nbconvert_exporter": "python",
   "pygments_lexer": "ipython3",
   "version": "3.6.4"
  }
 },
 "nbformat": 4,
 "nbformat_minor": 2
}
