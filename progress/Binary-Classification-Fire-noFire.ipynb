{
 "cells": [
  {
   "cell_type": "markdown",
   "metadata": {},
   "source": [
    "# Load data from csv files"
   ]
  },
  {
   "cell_type": "code",
   "execution_count": 1,
   "metadata": {},
   "outputs": [],
   "source": [
    "import pandas as pd"
   ]
  },
  {
   "cell_type": "code",
   "execution_count": 2,
   "metadata": {},
   "outputs": [],
   "source": [
    "# Merge three csv files according to the column of 'system:index'\n",
    "# 1. Merge \"temperature\" and \"leaf_area\" into temp_leaf by inner_join\n",
    "# 2. Merge \"burn_area\" and temp_leaf into burned_temp_leaf by right_join\n",
    "# If a csv file doesn't have matched 'system:index' value, the field value is 'nan'\n",
    "# Reference link: https://datacarpentry.org/python-ecology-lesson/05-merging-data/index.html\n",
    "samples = pd.read_excel('binary_classify_data.xlsx')"
   ]
  },
  {
   "cell_type": "code",
   "execution_count": 150,
   "metadata": {},
   "outputs": [
    {
     "name": "stdout",
     "output_type": "stream",
     "text": [
      "1063\n",
      "Index(['system:index', 'Uncertainty', 'elevation', 'fnf', 'gHM', 'Fpar',\n",
      "       'FparExtra_QC', 'FparLai_QC', 'FparStdDev', 'Lai', 'LaiStdDev', 'b1',\n",
      "       'ppt', 'tdmean', 'tmax', 'tmean', 'tmin', 'vpdmax', 'vpdmin'],\n",
      "      dtype='object')\n"
     ]
    }
   ],
   "source": [
    "samples_copy = samples.copy()\n",
    "# Fill in 100 for the uncertainty of date has no fire\n",
    "y = samples_copy['Uncertainty'].fillna(0).values.tolist()\n",
    "fire_max_index = y.index(0)\n",
    "print(fire_max_index)\n",
    "y_fire = y[:fire_max_index]\n",
    "y_no_fire = y[fire_max_index:]\n",
    "#print(y[:fire_max_index]\n",
    "print(samples_copy.columns)\n",
    "\n",
    "# Prune the unuseful columns\n",
    "del samples_copy['system:index']\n",
    "del samples_copy['Uncertainty']\n",
    "\n",
    "#del samples_copy['elevation']\n",
    "#del samples_copy['fnf']\n",
    "del samples_copy['gHM'] # Not good\n",
    "\n",
    "#del samples_copy['Fpar'] # Good for fire samples\n",
    "del samples_copy['FparExtra_QC'] # A little good for fire samples but bad for no fire ones\n",
    "#del samples_copy['FparLai_QC'] # Balance - fire samples(+), no fire samples(-)\n",
    "del samples_copy['FparStdDev'] # Bad for fire samples\n",
    "#del samples_copy['Lai']\n",
    "#del samples_copy['LaiStdDev'] # Good for both\n",
    "\n",
    "#del samples_copy['b1'] # Increase fire samples a lot and no fire ones a little\n",
    "\n",
    "del samples_copy['ppt']   # No contribution\n",
    "del samples_copy['tdmean'] # Balance - fire samples(+), no fire samples(-)\n",
    "del samples_copy['tmax']  # No contribution\n",
    "del samples_copy['tmean']  # No contribution\n",
    "del samples_copy['tmin']   # Bad for fire smaples\n",
    "\n",
    "del samples_copy['vpdmax'] # No contribution\n",
    "#del samples_copy['vpdmin'] # Good for fire samples\n",
    "\n",
    "\n",
    "X = samples_copy.values.tolist()\n",
    "#print(X)\n",
    "X_fire = X[:fire_max_index]\n",
    "X_no_fire = X[fire_max_index:]"
   ]
  },
  {
   "cell_type": "code",
   "execution_count": 184,
   "metadata": {
    "scrolled": true
   },
   "outputs": [
    {
     "name": "stdout",
     "output_type": "stream",
     "text": [
      "850\n"
     ]
    }
   ],
   "source": [
    "from sklearn.model_selection import train_test_split\n",
    "X_fire_train, X_fire_test, y_fire_train, y_fire_test = train_test_split(X_fire, y_fire, test_size=0.20, random_state=42)\n",
    "X_no_fire_train, X_no_fire_test, y_no_fire_train, y_no_fire_test = train_test_split(X_no_fire, y_no_fire, test_size=0.25, random_state=42)\n",
    "X_no_fire_train = X_no_fire_train[:len(y_fire_train)]\n",
    "y_no_fire_train = y_no_fire_train[:len(y_fire_train)]\n",
    "print(len(y_fire_train))"
   ]
  },
  {
   "cell_type": "markdown",
   "metadata": {},
   "source": [
    "# Regression"
   ]
  },
  {
   "cell_type": "code",
   "execution_count": 186,
   "metadata": {},
   "outputs": [
    {
     "name": "stdout",
     "output_type": "stream",
     "text": [
      "1700\n"
     ]
    }
   ],
   "source": [
    "from sklearn.linear_model import LogisticRegression\n",
    "lr = LogisticRegression(solver='lbfgs', multi_class='auto', max_iter=5000)\n",
    "X2_train = X_fire_train + X_no_fire_train\n",
    "y2_train = y_fire_train + y_no_fire_train\n",
    "#print(len(y2_train))\n",
    "lr = lr.fit(X2_train, y2_train)"
   ]
  },
  {
   "cell_type": "code",
   "execution_count": 179,
   "metadata": {},
   "outputs": [
    {
     "name": "stdout",
     "output_type": "stream",
     "text": [
      "0.7652582159624414\n",
      "0.687729937335759\n"
     ]
    }
   ],
   "source": [
    "import numpy as np\n",
    "y_fire_pred = lr.predict(X_fire_test)\n",
    "#print(y_fire_pred)\n",
    "print(np.mean(y_fire_pred == y_fire_test))\n",
    "\n",
    "y_no_fire_pred = lr.predict(X_no_fire_test)\n",
    "print(np.mean(y_no_fire_pred == y_no_fire_test))\n",
    "#print(y_fire_pred)\n",
    "#print(y_no_fire_test)\n",
    "#print(y_no_fire_pred)\n",
    "#print(np.mean((y_no_fire_pred + y_fire_pred) == (y_no_fire_test + y_fire_pred)))"
   ]
  },
  {
   "cell_type": "code",
   "execution_count": 183,
   "metadata": {},
   "outputs": [
    {
     "name": "stdout",
     "output_type": "stream",
     "text": [
      "24735\n"
     ]
    }
   ],
   "source": [
    "#print(y_fire_pred)\n",
    "#print(y_fire_test)\n",
    "print(len(y_no_fire_pred))"
   ]
  },
  {
   "cell_type": "code",
   "execution_count": 191,
   "metadata": {},
   "outputs": [
    {
     "name": "stdout",
     "output_type": "stream",
     "text": [
      "<class 'numpy.ndarray'>\n"
     ]
    },
    {
     "data": {
      "image/png": "[encoded data removed]",
      "text/plain": [
       "<Figure size 432x288 with 2 Axes>"
      ]
     },
     "metadata": {
      "needs_background": "light"
     },
     "output_type": "display_data"
    }
   ],
   "source": [
    "from sklearn.metrics import confusion_matrix\n",
    "import matplotlib.pyplot as plt\n",
    "from sklearn.utils.multiclass import unique_labels\n",
    "\n",
    "yy_test = y_fire_test + y_no_fire_test\n",
    "#rint(yy_test)\n",
    "print(type(y_fire_pred))\n",
    "yy_pred = np.append(y_fire_pred, y_no_fire_pred)\n",
    "cm = confusion_matrix(yy_test, yy_pred)\n",
    "\n",
    "# Only uses the labels that appear in the data\n",
    "labels = unique_labels(yy_test, yy_pred)\n",
    "#print(cm)\n",
    "\n",
    "fig, ax = plt.subplots()\n",
    "im = ax.imshow(cm, interpolation='nearest', cmap=plt.cm.Blues)\n",
    "ax.figure.colorbar(im, ax=ax)\n",
    "ax.set(xticks=np.arange(cm.shape[1]),\n",
    "           yticks=np.arange(cm.shape[0]),\n",
    "           # ... and label them with the respective list entries\n",
    "           xticklabels=labels, yticklabels=labels,\n",
    "           ylabel='Fact',\n",
    "           xlabel='Prediction')\n",
    "# Rotate the tick labels and set their alignment.\n",
    "plt.setp(ax.get_xticklabels(), rotation=45, ha=\"right\", rotation_mode=\"anchor\")\n",
    "fig.tight_layout()"
   ]
  },
  {
   "cell_type": "code",
   "execution_count": null,
   "metadata": {},
   "outputs": [],
   "source": []
  }
 ],
 "metadata": {
  "kernelspec": {
   "display_name": "Python 3",
   "language": "python",
   "name": "python3"
  },
  "language_info": {
   "codemirror_mode": {
    "name": "ipython",
    "version": 3
   },
   "file_extension": ".py",
   "mimetype": "text/x-python",
   "name": "python",
   "nbconvert_exporter": "python",
   "pygments_lexer": "ipython3",
   "version": "3.7.3"
  }
 },
 "nbformat": 4,
 "nbformat_minor": 2
}
