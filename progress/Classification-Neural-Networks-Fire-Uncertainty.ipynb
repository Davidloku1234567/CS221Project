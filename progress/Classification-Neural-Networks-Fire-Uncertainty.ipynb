{
 "cells": [
  {
   "cell_type": "markdown",
   "metadata": {},
   "source": [
    "# Load data from csv files"
   ]
  },
  {
   "cell_type": "code",
   "execution_count": 2,
   "metadata": {},
   "outputs": [],
   "source": [
    "import pandas as pd\n",
    "\n",
    "burned_area = pd.read_excel('burn_data.xlsx', sheetname='Burned_Area')\n",
    "temperature = pd.read_excel('burn_data.xlsx', sheetname='Temperature')\n",
    "leaf_area = pd.read_excel('burn_data.xlsx', sheetname='Leaf_Area')"
   ]
  },
  {
   "cell_type": "code",
   "execution_count": 364,
   "metadata": {},
   "outputs": [
    {
     "name": "stdout",
     "output_type": "stream",
     "text": [
      "Index(['system:index', 'BurnDate', 'FirstDay', 'LastDay', 'QA', 'Uncertainty',\n",
      "       'ppt', 'tdmean', 'tmax', 'tmean', 'tmin', 'vpdmax', 'vpdmin', 'Fpar',\n",
      "       'FparExtra_QC', 'FparLai_QC', 'FparStdDev', 'Lai', 'LaiStdDev'],\n",
      "      dtype='object')\n"
     ]
    }
   ],
   "source": [
    "# Merge three csv files according to the column of 'system:index'\n",
    "# 1. Merge \"temperature\" and \"leaf_area\" into temp_leaf by inner_join\n",
    "# 2. Merge \"burn_area\" and temp_leaf into burned_temp_leaf by right_join\n",
    "# If a csv file doesn't have matched 'system:index' value, the field value is 'nan'\n",
    "# Reference link: https://datacarpentry.org/python-ecology-lesson/05-merging-data/index.html\n",
    "temp_leaf = pd.merge(left=temperature, right=leaf_area, left_on='system:index', right_on='system:index') \n",
    "burned_temp_leaf = pd.merge(left=burned_area, right=temp_leaf, how='right', left_on='system:index', right_on='system:index')\n",
    "print(burned_temp_leaf.columns)\n",
    "#print(btl)"
   ]
  },
  {
   "cell_type": "code",
   "execution_count": 6,
   "metadata": {},
   "outputs": [],
   "source": [
    "#burned_temp_leaf.to_excel('burned_temp_leaf.xlsx')"
   ]
  },
  {
   "cell_type": "code",
   "execution_count": 365,
   "metadata": {},
   "outputs": [],
   "source": [
    "# Fill in 100 for the uncertainty of date has no fire\n",
    "y = burned_temp_leaf['Uncertainty'].fillna(100).values.tolist()\n",
    "\n",
    "# Prune the unuseful columns\n",
    "del burned_temp_leaf['system:index'] # Unnecessary\n",
    "del burned_temp_leaf['BurnDate'] # Unnecessary\n",
    "del burned_temp_leaf['FirstDay'] # Unnecessary\n",
    "del burned_temp_leaf['LastDay'] # Unnecessary\n",
    "del burned_temp_leaf['QA'] # Unnecessary\n",
    "del burned_temp_leaf['Uncertainty'] # Unnecessary\n",
    "\n",
    "del burned_temp_leaf['ppt']   # Degrade\n",
    "#del burned_temp_leaf['tdmean']\n",
    "#del burned_temp_leaf['tmax']\n",
    "#del burned_temp_leaf['tmean']\n",
    "del burned_temp_leaf['tmin']   # Degrade\n",
    "\n",
    "#del burned_temp_leaf['vpdmax']\n",
    "#del burned_temp_leaf['vpdmin']\n",
    "#del burned_temp_leaf['Fpar']\n",
    "#del burned_temp_leaf['FparExtra_QC']\n",
    "del burned_temp_leaf['FparLai_QC'] # No contribution\n",
    "#del burned_temp_leaf['FparStdDev']\n",
    "#del burned_temp_leaf['Lai']\n",
    "del burned_temp_leaf['LaiStdDev'] # No contribution\n",
    "\n",
    "X = burned_temp_leaf.values.tolist()"
   ]
  },
  {
   "cell_type": "code",
   "execution_count": 366,
   "metadata": {
    "scrolled": true
   },
   "outputs": [],
   "source": [
    "from sklearn.model_selection import train_test_split\n",
    "first_non_fire_idx = X.index(100)\n",
    "print(first_non_fire_idx)\n",
    "X_fire = X[:131]\n",
    "y_fire = y[:131]\n",
    "#X_nofire = X[132:]\n",
    "#y_nofire = y[132:]\n",
    "X_fire_train, X_fire_test, y_fire_train, y_fire_test = train_test_split(X_fire, y_fire, test_size=0.2, random_state=42)\n",
    "#X_nofire_train, X_nofire_test, y_nofire_train, y_nofire_test = train_test_split(X_nofire, y_nofire, test_size=0.10, random_state=42)\n",
    "#print(X_fire)\n",
    "#print(y_fire)"
   ]
  },
  {
   "cell_type": "markdown",
   "metadata": {},
   "source": [
    "# Data Normalization"
   ]
  },
  {
   "cell_type": "code",
   "execution_count": 20,
   "metadata": {},
   "outputs": [],
   "source": [
    "from sklearn.preprocessing import StandardScaler"
   ]
  },
  {
   "cell_type": "code",
   "execution_count": 296,
   "metadata": {},
   "outputs": [
    {
     "name": "stdout",
     "output_type": "stream",
     "text": [
      "[4.0, 2.0, 5.0, 1.0, 3.0, 3.0, 2.0, 1.0, 1.0, 3.0, 2.0, 4.0, 6.0, 2.0, 5.0, 2.0, 5.0, 6.0, 4.0, 6.0, 4.0, 2.0, 3.0, 1.0, 3.0, 7.0, 6.0, 3.0, 7.0, 2.0, 3.0, 1.0, 2.0, 6.0, 3.0, 3.0, 8.0, 5.0, 4.0, 2.0, 4.0, 1.0, 5.0, 1.0, 2.0, 1.0, 3.0, 1.0, 1.0, 3.0, 1.0, 3.0, 6.0, 2.0, 4.0, 8.0, 2.0, 2.0, 2.0, 2.0, 2.0, 1.0, 4.0, 2.0, 2.0, 2.0, 3.0, 6.0, 1.0, 1.0, 1.0, 1.0, 1.0, 4.0, 4.0, 1.0, 3.0, 5.0, 3.0, 4.0, 2.0, 3.0, 2.0, 3.0, 8.0, 9.0, 3.0, 3.0, 1.0, 3.0, 1.0, 2.0, 1.0, 3.0, 5.0, 4.0, 5.0, 5.0, 1.0, 2.0, 2.0, 3.0, 2.0, 3.0]\n",
      "[3.0, 3.0, 7.0, 6.0, 5.0, 3.0, 4.0, 7.0, 4.0, 2.0, 2.0, 5.0, 5.0, 1.0, 1.0, 1.0, 9.0, 5.0, 2.0, 7.0, 2.0, 8.0, 5.0, 6.0, 2.0, 1.0, 1.0]\n"
     ]
    }
   ],
   "source": [
    "scaler = StandardScaler()\n",
    "scaler.fit(X_fire_train)\n",
    "X_fire_train = scaler.transform(X_fire_train)\n",
    "X_fire_test = scaler.transform(X_fire_test)\n",
    "print(y_fire_train)\n",
    "print(y_fire_test)"
   ]
  },
  {
   "cell_type": "markdown",
   "metadata": {},
   "source": [
    "# ANN Training"
   ]
  },
  {
   "cell_type": "code",
   "execution_count": 5,
   "metadata": {},
   "outputs": [],
   "source": [
    "# https://www.springboard.com/blog/beginners-guide-neural-network-in-python-scikit-learn-0-18/\n",
    "# https://stats.stackexchange.com/questions/181/how-to-choose-the-number-of-hidden-layers-and-nodes-in-a-feedforward-neural-netw\n",
    "from sklearn.neural_network import MLPClassifier"
   ]
  },
  {
   "cell_type": "code",
   "execution_count": 361,
   "metadata": {},
   "outputs": [],
   "source": [
    "mlp = MLPClassifier(hidden_layer_sizes=(11,11),solver='lbfgs',activation='logistic',random_state=700,early_stopping=True,max_iter=1000)\n",
    "mlp.fit(X_fire_train, y_fire_train)\n",
    "y_fire_pred = mlp.predict(X_fire_test)\n",
    "#y_nofire_pred = lr.predict(X_nofire_test)"
   ]
  },
  {
   "cell_type": "code",
   "execution_count": 362,
   "metadata": {},
   "outputs": [
    {
     "name": "stdout",
     "output_type": "stream",
     "text": [
      "0.3333333333333333\n",
      "MLPClassifier(activation='logistic', alpha=0.0001, batch_size='auto',\n",
      "              beta_1=0.9, beta_2=0.999, early_stopping=True, epsilon=1e-08,\n",
      "              hidden_layer_sizes=(11, 11), learning_rate='constant',\n",
      "              learning_rate_init=0.001, max_iter=1000, momentum=0.9,\n",
      "              n_iter_no_change=10, nesterovs_momentum=True, power_t=0.5,\n",
      "              random_state=700, shuffle=True, solver='lbfgs', tol=0.0001,\n",
      "              validation_fraction=0.1, verbose=False, warm_start=False)\n",
      "[4. 2. 5. 1. 3. 3. 2. 1. 1. 3. 1. 4. 6. 2. 5. 2. 5. 3. 2. 6. 3. 2. 3. 3.\n",
      " 3. 7. 6. 3. 7. 2. 3. 1. 2. 6. 3. 3. 8. 5. 4. 2. 4. 1. 5. 1. 2. 1. 3. 5.\n",
      " 1. 3. 1. 3. 6. 2. 4. 8. 2. 2. 2. 2. 2. 1. 4. 2. 3. 2. 3. 6. 1. 1. 1. 1.\n",
      " 3. 4. 4. 1. 3. 5. 3. 4. 2. 3. 2. 3. 8. 9. 3. 3. 1. 3. 1. 2. 1. 3. 5. 4.\n",
      " 5. 5. 1. 2. 2. 3. 2. 3.]\n"
     ]
    }
   ],
   "source": [
    "import numpy as np\n",
    "print(np.mean(y_fire_pred == y_fire_test))\n",
    "#print(np.mean(y_nofire_pred == y_nofire_test))\n",
    "#print(y_fire_pred)\n",
    "#print(y_fire_test)\n",
    "print(mlp)\n",
    "print(mlp.predict(X_fire_train))"
   ]
  },
  {
   "cell_type": "code",
   "execution_count": 363,
   "metadata": {},
   "outputs": [
    {
     "data": {
      "image/png": "[encoded data removed]",
      "text/plain": [
       "<Figure size 432x288 with 2 Axes>"
      ]
     },
     "metadata": {
      "needs_background": "light"
     },
     "output_type": "display_data"
    }
   ],
   "source": [
    "from sklearn.metrics import confusion_matrix\n",
    "import matplotlib.pyplot as plt\n",
    "from sklearn.utils.multiclass import unique_labels\n",
    "\n",
    "cm = confusion_matrix(y_fire_test, y_fire_pred)\n",
    "\n",
    "# Only uses the labels that appear in the data\n",
    "labels = unique_labels(y_fire_test, y_fire_pred)\n",
    "#print(cm)\n",
    "\n",
    "fig, ax = plt.subplots()\n",
    "im = ax.imshow(cm, interpolation='nearest', cmap=plt.cm.Blues)\n",
    "ax.figure.colorbar(im, ax=ax)\n",
    "ax.set(xticks=np.arange(cm.shape[1]),\n",
    "           yticks=np.arange(cm.shape[0]),\n",
    "           # ... and label them with the respective list entries\n",
    "           xticklabels=labels, yticklabels=labels,\n",
    "           ylabel='True Uncertainty',\n",
    "           xlabel='Predicted Uncertainty')\n",
    "# Rotate the tick labels and set their alignment.\n",
    "plt.setp(ax.get_xticklabels(), rotation=45, ha=\"right\", rotation_mode=\"anchor\")\n",
    "fig.tight_layout()"
   ]
  }
 ],
 "metadata": {
  "kernelspec": {
   "display_name": "Python 3",
   "language": "python",
   "name": "python3"
  },
  "language_info": {
   "codemirror_mode": {
    "name": "ipython",
    "version": 3
   },
   "file_extension": ".py",
   "mimetype": "text/x-python",
   "name": "python",
   "nbconvert_exporter": "python",
   "pygments_lexer": "ipython3",
   "version": "3.7.3"
  }
 },
 "nbformat": 4,
 "nbformat_minor": 2
}
