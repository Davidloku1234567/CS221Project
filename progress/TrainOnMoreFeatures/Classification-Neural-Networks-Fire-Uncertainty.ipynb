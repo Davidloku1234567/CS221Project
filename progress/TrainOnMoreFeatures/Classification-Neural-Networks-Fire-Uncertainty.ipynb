{
 "cells": [
  {
   "cell_type": "markdown",
   "metadata": {},
   "source": [
    "# Load data from csv files"
   ]
  },
  {
   "cell_type": "code",
   "execution_count": 3,
   "metadata": {},
   "outputs": [
    {
     "name": "stdout",
     "output_type": "stream",
     "text": [
      "Index(['system:index', 'BurnDate', 'Month', 'Precip', 'FirstDay', 'LastDay',\n",
      "       'QA', 'Uncertainty', 'elevation', 'fnf', 'gHM', 'Fpar', 'FparExtra_QC',\n",
      "       'FparLai_QC', 'FparStdDev', 'Lai', 'LaiStdDev', 'apr', 'aug', 'dec',\n",
      "       'feb', 'jan', 'jul', 'jun', 'mar', 'may', 'nov', 'oct', 'sep', 'b1',\n",
      "       'ppt', 'tdmean', 'tmax', 'tmean', 'tmin', 'vpdmax', 'vpdmin'],\n",
      "      dtype='object')\n"
     ]
    }
   ],
   "source": [
    "import pandas as pd\n",
    "\n",
    "samples = pd.read_excel('all_training_data.xlsx')\n",
    "print(samples.columns)"
   ]
  },
  {
   "cell_type": "code",
   "execution_count": 104,
   "metadata": {},
   "outputs": [],
   "source": [
    "samples_prune = samples.copy()"
   ]
  },
  {
   "cell_type": "code",
   "execution_count": 105,
   "metadata": {},
   "outputs": [],
   "source": [
    "y = samples_prune['Uncertainty'].values.tolist()\n",
    "\n",
    "# Prune the unuseful columns\n",
    "del samples_prune['system:index'] # Unnecessary\n",
    "del samples_prune['BurnDate'] # Unnecessary\n",
    "del samples_prune['Month'] # \n",
    "del samples_prune['Precip'] # \n",
    "del samples_prune['FirstDay'] # Unnecessary\n",
    "del samples_prune['LastDay'] # Unnecessary\n",
    "del samples_prune['QA'] # Unnecessary\n",
    "del samples_prune['Uncertainty'] # Unnecessary\n",
    "\n",
    "del samples_prune['elevation'] # No contribution\n",
    "del samples_prune['fnf'] # No contribution\n",
    "del samples_prune['gHM'] # Degrade\n",
    "\n",
    "#del samples_prune['Fpar']\n",
    "#del samples_prune['FparExtra_QC']\n",
    "del samples_prune['FparLai_QC'] # No contribution\n",
    "#del samples_prune['FparStdDev']\n",
    "#del samples_prune['Lai']\n",
    "del samples_prune['LaiStdDev'] # No contribution\n",
    "\n",
    "del samples_prune['apr']\n",
    "del samples_prune['aug']\n",
    "del samples_prune['dec']\n",
    "del samples_prune['feb']\n",
    "del samples_prune['jan']\n",
    "del samples_prune['jul']\n",
    "del samples_prune['jun']\n",
    "del samples_prune['mar']\n",
    "del samples_prune['may']\n",
    "del samples_prune['nov']\n",
    "del samples_prune['oct']\n",
    "del samples_prune['sep']\n",
    "\n",
    "#del samples_prune['b1']\n",
    "del samples_prune['ppt']   # Degrade\n",
    "#del samples_prune['tdmean']\n",
    "#del samples_prune['tmax']\n",
    "#del samples_prune['tmean']\n",
    "del samples_prune['tmin']   # Degrade\n",
    "\n",
    "#del samples_prune['vpdmax']\n",
    "#del samples_prune['vpdmin']\n",
    "\n",
    "X = samples_prune.values.tolist()"
   ]
  },
  {
   "cell_type": "code",
   "execution_count": 106,
   "metadata": {
    "scrolled": true
   },
   "outputs": [],
   "source": [
    "from sklearn.model_selection import train_test_split\n",
    "X_train, X_test, y_train, y_test = train_test_split(X, y, test_size=0.2, random_state=42)"
   ]
  },
  {
   "cell_type": "markdown",
   "metadata": {},
   "source": [
    "# Data Normalization"
   ]
  },
  {
   "cell_type": "code",
   "execution_count": 10,
   "metadata": {},
   "outputs": [],
   "source": [
    "from sklearn.preprocessing import StandardScaler"
   ]
  },
  {
   "cell_type": "code",
   "execution_count": 107,
   "metadata": {},
   "outputs": [],
   "source": [
    "scaler = StandardScaler()\n",
    "scaler.fit(X_train)\n",
    "X_train = scaler.transform(X_train)\n",
    "X_test = scaler.transform(X_test)\n",
    "#print(y_train)\n",
    "#print(y_test)"
   ]
  },
  {
   "cell_type": "markdown",
   "metadata": {},
   "source": [
    "# ANN Training"
   ]
  },
  {
   "cell_type": "code",
   "execution_count": 12,
   "metadata": {},
   "outputs": [],
   "source": [
    "# https://www.springboard.com/blog/beginners-guide-neural-network-in-python-scikit-learn-0-18/\n",
    "# https://stats.stackexchange.com/questions/181/how-to-choose-the-number-of-hidden-layers-and-nodes-in-a-feedforward-neural-netw\n",
    "from sklearn.neural_network import MLPClassifier\n",
    "import numpy as np"
   ]
  },
  {
   "cell_type": "code",
   "execution_count": 108,
   "metadata": {},
   "outputs": [
    {
     "data": {
      "text/plain": [
       "0.4225352112676056"
      ]
     },
     "execution_count": 108,
     "metadata": {},
     "output_type": "execute_result"
    }
   ],
   "source": [
    "mlp = MLPClassifier(hidden_layer_sizes=(17),solver='lbfgs',activation='logistic',random_state=800,early_stopping=True,max_iter=1000)\n",
    "mlp.fit(X_train, y_train)\n",
    "y_pred = mlp.predict(X_test)\n",
    "np.mean(y_pred == y_test)"
   ]
  },
  {
   "cell_type": "code",
   "execution_count": 109,
   "metadata": {},
   "outputs": [
    {
     "data": {
      "image/png": "[encoded data removed]",
      "text/plain": [
       "<Figure size 432x288 with 2 Axes>"
      ]
     },
     "metadata": {
      "needs_background": "light"
     },
     "output_type": "display_data"
    }
   ],
   "source": [
    "from sklearn.metrics import confusion_matrix\n",
    "import matplotlib.pyplot as plt\n",
    "from sklearn.utils.multiclass import unique_labels\n",
    "\n",
    "cm = confusion_matrix(y_test, y_pred)\n",
    "\n",
    "# Only uses the labels that appear in the data\n",
    "labels = unique_labels(y_test, y_pred)\n",
    "#print(cm)\n",
    "\n",
    "fig, ax = plt.subplots()\n",
    "im = ax.imshow(cm, interpolation='nearest', cmap=plt.cm.Blues)\n",
    "ax.figure.colorbar(im, ax=ax)\n",
    "ax.set(xticks=np.arange(cm.shape[1]),\n",
    "           yticks=np.arange(cm.shape[0]),\n",
    "           # ... and label them with the respective list entries\n",
    "           xticklabels=labels, yticklabels=labels,\n",
    "           ylabel='True Uncertainty',\n",
    "           xlabel='Predicted Uncertainty')\n",
    "# Rotate the tick labels and set their alignment.\n",
    "plt.setp(ax.get_xticklabels(), rotation=45, ha=\"right\", rotation_mode=\"anchor\")\n",
    "fig.tight_layout()"
   ]
  }
 ],
 "metadata": {
  "kernelspec": {
   "display_name": "Python 3",
   "language": "python",
   "name": "python3"
  },
  "language_info": {
   "codemirror_mode": {
    "name": "ipython",
    "version": 3
   },
   "file_extension": ".py",
   "mimetype": "text/x-python",
   "name": "python",
   "nbconvert_exporter": "python",
   "pygments_lexer": "ipython3",
   "version": "3.7.3"
  }
 },
 "nbformat": 4,
 "nbformat_minor": 2
}
