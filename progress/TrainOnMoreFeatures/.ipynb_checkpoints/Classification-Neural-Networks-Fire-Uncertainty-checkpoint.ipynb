{
 "cells": [
  {
   "cell_type": "markdown",
   "metadata": {},
   "source": [
    "# Load data from csv files"
   ]
  },
  {
   "cell_type": "code",
   "execution_count": 3,
   "metadata": {},
   "outputs": [
    {
     "name": "stdout",
     "output_type": "stream",
     "text": [
      "Index(['system:index', 'BurnDate', 'Month', 'Precip', 'FirstDay', 'LastDay',\n",
      "       'QA', 'Uncertainty', 'elevation', 'fnf', 'gHM', 'Fpar', 'FparExtra_QC',\n",
      "       'FparLai_QC', 'FparStdDev', 'Lai', 'LaiStdDev', 'apr', 'aug', 'dec',\n",
      "       'feb', 'jan', 'jul', 'jun', 'mar', 'may', 'nov', 'oct', 'sep', 'b1',\n",
      "       'ppt', 'tdmean', 'tmax', 'tmean', 'tmin', 'vpdmax', 'vpdmin'],\n",
      "      dtype='object')\n"
     ]
    }
   ],
   "source": [
    "import pandas as pd\n",
    "\n",
    "samples = pd.read_excel('all_training_data.xlsx')\n",
    "print(samples.columns)"
   ]
  },
  {
   "cell_type": "code",
   "execution_count": 5,
   "metadata": {},
   "outputs": [],
   "source": [
    "samples_prune = samples.copy()"
   ]
  },
  {
   "cell_type": "code",
   "execution_count": 8,
   "metadata": {},
   "outputs": [],
   "source": [
    "y = samples_prune['Uncertainty'].values.tolist()\n",
    "\n",
    "# Prune the unuseful columns\n",
    "del samples_prune['system:index'] # Unnecessary\n",
    "del samples_prune['BurnDate'] # Unnecessary\n",
    "#del samples_prune['Month'] # \n",
    "#del samples_prune['Precip'] # \n",
    "del samples_prune['FirstDay'] # Unnecessary\n",
    "del samples_prune['LastDay'] # Unnecessary\n",
    "del samples_prune['QA'] # Unnecessary\n",
    "del samples_prune['Uncertainty'] # Unnecessary\n",
    "\n",
    "del samples_prune['elevation']\n",
    "del samples_prune['fnf']\n",
    "del samples_prune['gHM']\n",
    "\n",
    "#del samples_prune['Fpar']\n",
    "#del samples_prune['FparExtra_QC']\n",
    "del samples_prune['FparLai_QC'] # No contribution\n",
    "#del samples_prune['FparStdDev']\n",
    "#del samples_prune['Lai']\n",
    "del samples_prune['LaiStdDev'] # No contribution\n",
    "\n",
    "del samples_prune['apr']\n",
    "del samples_prune['aug']\n",
    "del samples_prune['dec']\n",
    "del samples_prune['feb']\n",
    "del samples_prune['jan']\n",
    "del samples_prune['jul']\n",
    "del samples_prune['jun']\n",
    "del samples_prune['mar']\n",
    "del samples_prune['may']\n",
    "del samples_prune['nov']\n",
    "del samples_prune['oct']\n",
    "del samples_prune['sep']\n",
    "\n",
    "#del samples_prune['b1']\n",
    "del samples_prune['ppt']   # Degrade\n",
    "#del samples_prune['tdmean']\n",
    "#del samples_prune['tmax']\n",
    "#del samples_prune['tmean']\n",
    "del samples_prune['tmin']   # Degrade\n",
    "\n",
    "#del samples_prune['vpdmax']\n",
    "#del samples_prune['vpdmin']\n",
    "\n",
    "X = samples_prune.values.tolist()"
   ]
  },
  {
   "cell_type": "code",
   "execution_count": 9,
   "metadata": {
    "scrolled": true
   },
   "outputs": [],
   "source": [
    "from sklearn.model_selection import train_test_split\n",
    "X_train, X_test, y_train, y_test = train_test_split(X, y, test_size=0.2, random_state=42)"
   ]
  },
  {
   "cell_type": "markdown",
   "metadata": {},
   "source": [
    "# Data Normalization"
   ]
  },
  {
   "cell_type": "code",
   "execution_count": 10,
   "metadata": {},
   "outputs": [],
   "source": [
    "from sklearn.preprocessing import StandardScaler"
   ]
  },
  {
   "cell_type": "code",
   "execution_count": 11,
   "metadata": {},
   "outputs": [
    {
     "name": "stdout",
     "output_type": "stream",
     "text": [
      "[8, 1, 9, 4, 1, 3, 3, 3, 3, 1, 4, 3, 2, 2, 2, 1, 2, 5, 1, 1, 3, 2, 3, 8, 2, 2, 7, 2, 4, 2, 2, 2, 2, 1, 2, 2, 3, 2, 1, 2, 2, 3, 5, 2, 4, 6, 3, 2, 2, 2, 4, 3, 4, 3, 2, 1, 6, 3, 1, 4, 2, 2, 11, 5, 4, 2, 1, 3, 3, 2, 1, 8, 2, 1, 4, 1, 2, 4, 4, 3, 2, 1, 2, 1, 4, 2, 3, 8, 7, 10, 2, 4, 5, 2, 2, 2, 7, 7, 2, 7, 1, 2, 2, 2, 2, 2, 3, 16, 4, 2, 7, 7, 3, 3, 4, 2, 1, 4, 4, 2, 2, 2, 2, 1, 2, 6, 1, 4, 3, 4, 3, 15, 3, 5, 2, 7, 1, 1, 2, 4, 3, 5, 1, 3, 2, 4, 1, 2, 3, 1, 5, 1, 1, 3, 2, 2, 1, 2, 16, 5, 3, 2, 4, 3, 2, 2, 1, 2, 2, 2, 1, 1, 1, 2, 2, 2, 1, 2, 2, 5, 4, 1, 1, 4, 1, 7, 5, 4, 2, 3, 2, 1, 9, 3, 6, 2, 4, 3, 2, 2, 2, 1, 1, 23, 3, 3, 4, 2, 2, 1, 2, 1, 3, 5, 6, 1, 1, 1, 1, 7, 1, 5, 3, 4, 1, 1, 8, 4, 6, 4, 2, 3, 5, 2, 1, 2, 6, 2, 2, 5, 11, 2, 5, 2, 1, 3, 1, 5, 2, 5, 5, 16, 1, 1, 2, 2, 8, 2, 2, 4, 5, 1, 4, 4, 4, 1, 6, 1, 2, 2, 3, 5, 9, 2, 6, 2, 8, 1, 1, 2, 2, 3, 1, 3, 11, 1, 2, 2, 1, 2, 1, 3, 8, 3, 2, 1, 2, 1, 4, 2, 1, 3, 3, 5, 13, 2, 2, 8, 4, 1, 4, 1, 3, 2, 1, 1, 1, 1, 3, 3, 1, 1, 3, 3, 7, 1, 2, 2, 6, 3, 7, 1, 1, 2, 1, 15, 3, 2, 9, 5, 3, 1, 3, 2, 1, 1, 2, 2, 4, 3, 14, 2, 3, 1, 4, 5, 7, 2, 12, 3, 1, 1, 2, 3, 3, 1, 1, 5, 2, 7, 2, 8, 2, 4, 1, 3, 5, 7, 1, 2, 3, 5, 4, 4, 2, 2, 6, 1, 2, 2, 2, 6, 6, 3, 2, 8, 2, 2, 1, 3, 4, 9, 3, 5, 7, 1, 1, 2, 1, 4, 1, 3, 1, 4, 3, 2, 4, 5, 6, 1, 1, 8, 3, 1, 5, 3, 3, 2, 3, 13, 1, 1, 1, 3, 2, 1, 10, 5, 4, 1, 2, 1, 1, 5, 2, 4, 2, 2, 2, 1, 13, 6, 3, 4, 2, 1, 5, 6, 2, 2, 5, 4, 1, 2, 1, 2, 2, 2, 3, 9, 1, 5, 1, 5, 14, 2, 9, 5, 1, 2, 2, 2, 2, 4, 1, 2, 4, 11, 1, 3, 1, 3, 4, 10, 2, 1, 3, 3, 1, 2, 1, 2, 1, 5, 1, 1, 2, 1, 1, 2, 5, 2, 1, 5, 2, 1, 5, 2, 2, 1, 6, 4, 2, 7, 3, 3, 1, 2, 1, 2, 6, 8, 5, 3, 1, 5, 2, 1, 1, 16, 1, 10, 3, 2, 4, 4, 1, 2, 2, 2, 1, 2, 4, 2, 4, 3, 5, 1, 2, 1, 2, 1, 2, 2, 5, 5, 1, 1, 1, 1, 2, 2, 3, 3, 3, 5, 6, 1, 2, 5, 2, 1, 5, 2, 4, 4, 1, 3, 6, 5, 5, 3, 4, 3, 1, 1, 1, 1, 1, 6, 2, 3, 1, 1, 2, 1, 4, 2, 1, 1, 1, 1, 2, 1, 1, 3, 1, 1, 2, 4, 1, 3, 2, 1, 6, 2, 4, 1, 2, 2, 3, 1, 2, 1, 4, 1, 1, 2, 3, 2, 3, 1, 2, 3, 4, 2, 2, 2, 4, 3, 3, 4, 1, 1, 3, 3, 2, 2, 1, 1, 1, 1, 2, 1, 1, 2, 1, 2, 2, 2, 1, 7, 4, 2, 1, 5, 2, 10, 2, 5, 2, 1, 1, 1, 2, 2, 7, 2, 4, 2, 1, 2, 2, 3, 1, 2, 1, 1, 5, 3, 1, 1, 3, 2, 1, 4, 16, 2, 2, 1, 2, 2, 2, 2, 1, 2, 7, 1, 2, 2, 3, 2, 9, 10, 1, 2, 1, 5, 6, 11, 1, 4, 2, 2, 3, 4, 3, 2, 3, 2, 2, 6, 8, 3, 2, 6, 1, 2, 1, 1, 8, 1, 14, 5, 10, 2, 3, 5, 2, 4, 1, 1, 8, 1, 3, 2, 2, 2, 4, 2, 4, 2, 3, 3, 4, 1, 1, 4, 1, 5, 5, 2, 2, 3, 2, 2, 1, 2, 6, 2, 3, 20, 1, 1, 2, 1, 7, 5, 10, 1, 2, 2, 3, 3, 1, 3, 7, 3, 1, 2, 3, 2, 4, 14, 4, 2, 3, 5, 1, 12, 2, 1, 2, 1, 2, 1, 5, 1, 2, 2, 3, 1, 2, 4, 12, 3, 4, 1, 3, 1, 3, 2, 6, 1, 7, 3, 3, 6, 1, 1]\n",
      "[10, 3, 2, 2, 1, 2, 1, 2, 7, 1, 6, 1, 1, 1, 4, 2, 1, 3, 2, 3, 1, 3, 1, 2, 1, 2, 3, 4, 2, 3, 1, 5, 1, 3, 1, 4, 1, 3, 1, 6, 1, 1, 4, 2, 3, 3, 1, 1, 3, 2, 7, 1, 4, 4, 2, 1, 8, 2, 3, 1, 5, 3, 2, 8, 2, 2, 3, 3, 12, 2, 2, 1, 4, 4, 3, 1, 2, 2, 2, 3, 2, 1, 4, 3, 9, 3, 4, 2, 7, 15, 2, 4, 3, 1, 1, 3, 1, 4, 1, 7, 2, 3, 3, 6, 5, 4, 5, 4, 1, 2, 2, 2, 1, 2, 2, 6, 4, 7, 1, 1, 4, 1, 7, 5, 2, 3, 7, 2, 2, 2, 10, 10, 1, 8, 1, 1, 1, 2, 5, 17, 2, 1, 1, 2, 5, 2, 8, 8, 2, 3, 7, 2, 4, 5, 5, 2, 4, 5, 2, 2, 2, 8, 1, 8, 1, 15, 1, 4, 3, 2, 2, 2, 4, 2, 3, 1, 5, 2, 1, 1, 4, 4, 19, 3, 2, 1, 5, 4, 2, 1, 3, 3, 1, 1, 2, 3, 2, 2, 1, 2, 3, 2, 2, 1, 1, 1, 1, 6, 2, 8, 6, 3, 11]\n"
     ]
    }
   ],
   "source": [
    "scaler = StandardScaler()\n",
    "scaler.fit(X_train)\n",
    "X_train = scaler.transform(X_train)\n",
    "X_test = scaler.transform(X_test)\n",
    "#print(y_train)\n",
    "#print(y_test)"
   ]
  },
  {
   "cell_type": "markdown",
   "metadata": {},
   "source": [
    "# ANN Training"
   ]
  },
  {
   "cell_type": "code",
   "execution_count": 12,
   "metadata": {},
   "outputs": [],
   "source": [
    "# https://www.springboard.com/blog/beginners-guide-neural-network-in-python-scikit-learn-0-18/\n",
    "# https://stats.stackexchange.com/questions/181/how-to-choose-the-number-of-hidden-layers-and-nodes-in-a-feedforward-neural-netw\n",
    "from sklearn.neural_network import MLPClassifier"
   ]
  },
  {
   "cell_type": "code",
   "execution_count": 27,
   "metadata": {},
   "outputs": [],
   "source": [
    "mlp = MLPClassifier(hidden_layer_sizes=(17),solver='lbfgs',activation='logistic',random_state=700,early_stopping=True,max_iter=1000)\n",
    "mlp.fit(X_train, y_train)\n",
    "y_pred = mlp.predict(X_test)\n",
    "#y_nofire_pred = lr.predict(X_nofire_test)"
   ]
  },
  {
   "cell_type": "code",
   "execution_count": 28,
   "metadata": {},
   "outputs": [
    {
     "name": "stdout",
     "output_type": "stream",
     "text": [
      "0.3474178403755869\n"
     ]
    }
   ],
   "source": [
    "import numpy as np\n",
    "print(np.mean(y_pred == y_test))\n",
    "#print(np.mean(y_nofire_pred == y_nofire_test))\n",
    "#print(y_fire_pred)\n",
    "#print(y_fire_test)\n",
    "#print(mlp)\n",
    "#print(mlp.predict(X_train))"
   ]
  },
  {
   "cell_type": "code",
   "execution_count": 16,
   "metadata": {},
   "outputs": [
    {
     "data": {
      "image/png": "[encoded data removed]",
      "text/plain": [
       "<Figure size 432x288 with 2 Axes>"
      ]
     },
     "metadata": {
      "needs_background": "light"
     },
     "output_type": "display_data"
    }
   ],
   "source": [
    "from sklearn.metrics import confusion_matrix\n",
    "import matplotlib.pyplot as plt\n",
    "from sklearn.utils.multiclass import unique_labels\n",
    "\n",
    "cm = confusion_matrix(y_test, y_pred)\n",
    "\n",
    "# Only uses the labels that appear in the data\n",
    "labels = unique_labels(y_test, y_pred)\n",
    "#print(cm)\n",
    "\n",
    "fig, ax = plt.subplots()\n",
    "im = ax.imshow(cm, interpolation='nearest', cmap=plt.cm.Blues)\n",
    "ax.figure.colorbar(im, ax=ax)\n",
    "ax.set(xticks=np.arange(cm.shape[1]),\n",
    "           yticks=np.arange(cm.shape[0]),\n",
    "           # ... and label them with the respective list entries\n",
    "           xticklabels=labels, yticklabels=labels,\n",
    "           ylabel='True Uncertainty',\n",
    "           xlabel='Predicted Uncertainty')\n",
    "# Rotate the tick labels and set their alignment.\n",
    "plt.setp(ax.get_xticklabels(), rotation=45, ha=\"right\", rotation_mode=\"anchor\")\n",
    "fig.tight_layout()"
   ]
  }
 ],
 "metadata": {
  "kernelspec": {
   "display_name": "Python 3",
   "language": "python",
   "name": "python3"
  },
  "language_info": {
   "codemirror_mode": {
    "name": "ipython",
    "version": 3
   },
   "file_extension": ".py",
   "mimetype": "text/x-python",
   "name": "python",
   "nbconvert_exporter": "python",
   "pygments_lexer": "ipython3",
   "version": "3.7.3"
  }
 },
 "nbformat": 4,
 "nbformat_minor": 2
}
