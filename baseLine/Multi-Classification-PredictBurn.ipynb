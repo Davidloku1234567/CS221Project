{
 "cells": [
  {
   "cell_type": "markdown",
   "metadata": {},
   "source": [
    "# Load data from csv files"
   ]
  },
  {
   "cell_type": "code",
   "execution_count": 2,
   "metadata": {},
   "outputs": [],
   "source": [
    "import pandas as pd\n",
    "\n",
    "burned_area = pd.read_excel('burn_data.xlsx', sheetname='Burned_Area')\n",
    "temperature = pd.read_excel('burn_data.xlsx', sheetname='Temperature')\n",
    "leaf_area = pd.read_excel('burn_data.xlsx', sheetname='Leaf_Area')"
   ]
  },
  {
   "cell_type": "code",
   "execution_count": 9,
   "metadata": {},
   "outputs": [
    {
     "name": "stdout",
     "output_type": "stream",
     "text": [
      "Index(['system:index', 'BurnDate', 'FirstDay', 'LastDay', 'QA', 'Uncertainty',\n",
      "       'ppt', 'tdmean', 'tmax', 'tmean', 'tmin', 'vpdmax', 'vpdmin', 'Fpar',\n",
      "       'FparExtra_QC', 'FparLai_QC', 'FparStdDev', 'Lai', 'LaiStdDev'],\n",
      "      dtype='object')\n"
     ]
    }
   ],
   "source": [
    "# Merge three csv files according to the column of 'system:index'\n",
    "# 1. Merge \"temperature\" and \"leaf_area\" into temp_leaf by inner_join\n",
    "# 2. Merge \"burn_area\" and temp_leaf into burned_temp_leaf by right_join\n",
    "# If a csv file doesn't have matched 'system:index' value, the field value is 'nan'\n",
    "# Reference link: https://datacarpentry.org/python-ecology-lesson/05-merging-data/index.html\n",
    "temp_leaf = pd.merge(left=temperature, right=leaf_area, left_on='system:index', right_on='system:index') \n",
    "burned_temp_leaf = pd.merge(left=burned_area, right=temp_leaf, left_on='system:index', right_on='system:index')\n",
    "print(burned_temp_leaf.columns)"
   ]
  },
  {
   "cell_type": "code",
   "execution_count": 10,
   "metadata": {},
   "outputs": [],
   "source": [
    "# Fill in 100 for the uncertainty of date has no fire\n",
    "y = burned_temp_leaf['Uncertainty'].values.tolist()\n",
    "\n",
    "# Prune the unuseful columns\n",
    "del burned_temp_leaf['system:index']\n",
    "del burned_temp_leaf['BurnDate']\n",
    "del burned_temp_leaf['FirstDay']\n",
    "del burned_temp_leaf['LastDay']\n",
    "del burned_temp_leaf['QA']\n",
    "del burned_temp_leaf['Uncertainty']\n",
    "del burned_temp_leaf['FparExtra_QC']\n",
    "del burned_temp_leaf['FparLai_QC']\n",
    "del burned_temp_leaf['FparStdDev']\n",
    "del burned_temp_leaf['LaiStdDev']\n",
    "\n",
    "X = burned_temp_leaf.values.tolist()"
   ]
  },
  {
   "cell_type": "code",
   "execution_count": 8,
   "metadata": {},
   "outputs": [
    {
     "name": "stdout",
     "output_type": "stream",
     "text": [
      "[[0.016082143, 1.1813333, 18.934666, 13.6293335, 8.1595, 13.3455, 3.125375, 72.0, 20.0], [0.006968421, 3.6682, 20.321, 15.222709, 10.4004, 14.0995, 3.78925, 49.0, 12.0], [0.007334507, 2.1757143, 20.6834, 15.113001, 9.366678, 14.94345, 3.386175, 64.0, 14.0], [0.0014087592, 2.0673332, 20.37875, 14.6345005, 8.82375, 15.834091, 3.7995, 31.0, 5.0], [0.0050791367, 3.64, 20.389858, 13.9556675, 7.44875, 14.097, 2.2497084, 66.0, 17.0], [0.022724696, -0.8106667, 13.981334, 9.394401, 4.51725, 10.388429, 1.7820001, 48.0, 8.0], [0.0024785714, 3.2022, 20.910334, 14.910201, 8.8202, 16.3145, 3.44825, 44.0, 9.0], [0.0010920245, 4.8988, 22.6035, 16.636333, 10.562, 19.45575, 3.7572, 56.0, 12.0], [0.006664407, 6.2863336, 24.36625, 17.715502, 10.946, 17.0205, 3.2066, 60.0, 16.0], [0.004308772, 2.8049998, 21.60425, 15.2385845, 9.033, 15.7375, 3.295, 51.0, 11.0], [0.0041197184, 2.806025, 20.982876, 14.470251, 7.8335, 15.433, 2.76575, 57.0, 14.0], [0.00053583615, 4.4995418, 23.153, 16.636251, 9.8220005, 17.018541, 3.412, 31.0, 6.0], [0.00730605, 1.4386, 19.560001, 14.358001, 9.193666, 13.624, 3.5425, 56.0, 11.0], [0.00730605, 1.4386, 19.560001, 14.358001, 9.193666, 13.624, 3.5425, 64.0, 16.0], [0.00975265, 2.031, 20.318, 14.620167, 8.9656, 15.361, 3.8856666, 57.0, 13.0], [0.0015081967, 1.3191428, 17.08425, 10.632167, 4.109, 11.487625, 1.2088333, 16.0, 2.0], [0.013624138, 5.42925, 24.992, 17.961401, 10.50625, 20.522167, 3.51825, 39.0, 8.0], [0.007197133, 0.82, 17.984499, 12.2191, 6.1191664, 12.534375, 2.4363334, 76.0, 22.0], [0.0015033333, 7.174, 25.921, 18.013, 10.045, 19.09625, 1.91675, 36.0, 8.0], [0.010233216, 1.7897143, 19.848333, 14.478333, 8.81975, 14.422501, 3.937, 73.0, 22.0], [0.006968421, 3.6682, 20.321, 15.222709, 10.4004, 14.0995, 3.78925, 37.0, 8.0], [0.01048, 1.073, 18.34, 12.114918, 6.140982, 14.514137, 3.2435, 54.0, 12.0], [0.0014233576, 1.74025, 19.81575, 14.383876, 8.77425, 15.6438, 4.0586667, 35.0, 6.0], [0.0032367492, 4.3194, 23.375, 16.279501, 8.8705, 19.2518, 2.687375, 35.0, 6.0], [0.00012251656, 6.183857, 23.7994, 16.237251, 8.805889, 15.387571, 1.605, 32.0, 8.0], [0.0045921984, 1.9313333, 19.51775, 13.433333, 7.3254, 13.6405, 2.6870713, 36.0, 5.0], [0.00046332047, -0.41483334, 15.2405, 8.470575, 2.26975, 10.364, 1.1486666, 47.0, 9.0], [0.0056360546, 2.86575, 20.866, 15.469258, 9.63875, 16.667, 4.192625, 60.0, 11.0], [0.013160714, 2.3156667, 19.791, 13.395834, 7.0415, 14.009, 2.4343333, 45.0, 10.0], [0.0032599277, 2.5855713, 20.437, 14.743556, 9.042571, 15.738556, 3.8915, 41.0, 10.0], [0.012786184, 1.7052, 18.61175, 12.685801, 6.663167, 14.898, 3.2354999, 52.0, 10.0], [0.015495082, 3.2584, 22.081, 15.01025, 7.855625, 18.156, 2.9, 42.0, 9.0], [0.016445255, -6.3284, 13.8986, 7.3040004, 1.0356667, 11.6168, 2.6505, 45.0, 9.0], [0.0, 8.923, 23.49975, 17.919573, 12.612548, 17.263, 1.9116666, 32.0, 8.0], [0.008217392, 2.0475714, 19.7195, 14.109751, 8.098667, 13.86675, 3.0616, 57.0, 13.0], [0.0013954248, 8.475, 26.1774, 17.828585, 9.3175, 17.86425, 1.0929999, 54.0, 11.0], [0.0073381294, -0.587, 16.748001, 11.441429, 5.7468667, 11.9095, 2.8400002, 56.0, 13.0], [0.007081272, 1.7409999, 19.5935, 14.384834, 8.81175, 13.519667, 3.3162856, 42.0, 9.0], [0.00792953, 1.55, 19.632, 13.177501, 6.5573335, 15.727985, 3.276, 62.0, 14.0], [0.0, 8.195, 25.805834, 18.379335, 10.504666, 21.373001, 1.6589999, 34.0, 6.0], [0.018946996, 2.0665002, 19.434334, 13.501834, 7.3005, 13.091249, 2.516125, 57.0, 12.0], [0.0017526882, 4.04675, 21.108667, 15.011001, 8.802, 14.644714, 2.5443335, 41.0, 8.0], [0.007815603, -1.9983542, 15.988417, 10.8078, 5.925, 12.923, 3.5816, 44.0, 10.0], [0.00057680253, 5.6288, 23.84, 16.920502, 9.821, 19.570728, 2.3534584, 27.0, 3.0], [0.00496831, 4.2043333, 22.3134, 16.562, 10.414333, 15.603666, 3.8140001, 39.0, 8.0], [0.0, 4.75617, 23.675499, 17.031502, 10.741167, 22.298834, 3.81, 24.0, 4.0], [0.0065851063, 2.4481428, 20.291668, 14.822751, 8.961, 14.8133335, 3.6546, 87.0, 35.0], [0.0003625, 7.2963, 25.529, 17.24625, 9.260167, 20.91525, 1.5404999, 40.0, 7.0], [0.021244898, 0.3195, 15.0946665, 10.342501, 5.3085003, 10.587, 1.6595, 41.0, 7.0], [0.0013321429, 4.236125, 22.8814, 15.454751, 7.57, 17.4955, 2.38525, 31.0, 6.0], [0.013301754, 3.5505, 20.60757, 14.774751, 8.822599, 14.64875, 3.0917501, 36.0, 7.0], [0.0022720848, 4.9407144, 22.252542, 14.840167, 7.8416667, 15.81, 1.654, 33.0, 6.0], [0.00085714285, 3.3883, 21.84925, 16.058876, 9.686459, 16.829834, 3.8335, 38.0, 7.0], [0.00085714285, 3.3883, 21.84925, 16.058876, 9.686459, 16.829834, 3.8335, 58.0, 12.0], [0.010928105, 1.8924999, 18.5905, 12.541501, 6.67325, 14.399571, 3.1898, 46.0, 9.0], [0.015826855, 4.5889997, 21.864, 14.616501, 7.804, 15.384666, 1.59225, 45.0, 11.0], [0.0017557757, 5.038, 22.44325, 15.577001, 8.566571, 15.001166, 1.9291251, 29.0, 6.0], [0.0010794979, 0.8428, 15.957, 10.175501, 3.9854999, 10.938, 1.2026, 20.0, 3.0], [0.00041721854, 5.815, 23.4445, 16.728668, 9.450334, 15.8645, 2.1855555, 28.0, 6.0], [0.0057147765, 6.361405, 24.5988, 18.38075, 11.9145, 17.3405, 4.081, 45.0, 10.0], [0.0005678572, 1.0886667, 19.0035, 11.168601, 3.1866667, 13.1398, 1.4715714, 24.0, 5.0], [0.0072576273, 6.32725, 25.664333, 18.2, 10.16625, 19.7915, 2.3403335, 26.0, 6.0], [0.010926316, 3.19275, 21.635572, 15.262876, 8.701667, 15.7109995, 3.0570002, 45.0, 11.0], [0.008432624, 4.67425, 23.023108, 14.264501, 5.5007, 16.769777, 0.84025, 34.0, 6.0], [0.0074814814, -0.08571428, 17.270332, 12.768489, 8.321, 12.2722, 4.1063333, 64.0, 14.0], [0.011721831, 4.1815357, 22.196, 14.4764595, 7.2185, 15.973187, 1.8493333, 67.0, 17.0], [0.015137457, 0.40437502, 18.400667, 13.384625, 8.662143, 14.667334, 4.3175, 64.0, 16.0], [0.007306189, 4.1376, 22.0685, 15.111752, 8.1005, 17.9415, 2.6032, 32.0, 6.0], [0.0029288135, 4.9513335, 24.382334, 16.181667, 7.6367335, 20.739334, 1.8090714, 13.0, 2.0], [0.009136518, 3.071, 22.278301, 15.800251, 9.104834, 18.472675, 3.6444001, 49.0, 10.0], [0.009548951, 6.081286, 25.76575, 18.128876, 10.5035, 21.9789, 2.9983125, 45.0, 8.0], [0.0059405593, 5.506, 23.01095, 17.169, 10.918, 16.009375, 3.745375, 62.0, 16.0], [0.005862816, 1.98175, 19.114666, 12.679667, 5.953, 13.352333, 2.1905715, 48.0, 11.0], [0.017114982, 3.678, 21.9086, 14.858001, 7.2315, 16.181, 2.3046665, 34.0, 6.0], [0.017758006, -5.07025, 15.55725, 8.72525, 1.9196, 13.16975, 2.7174, 36.0, 7.0], [0.0015867158, 4.8568, 22.985676, 14.6310005, 5.99775, 17.216751, 1.034, 40.0, 9.0], [0.010278524, -3.5426, 16.373001, 9.272834, 1.9641, 13.6138, 2.84575, 39.0, 8.0], [0.0, 7.6405, 25.1644, 18.215752, 11.5435, 23.1504, 2.3990002, 29.0, 5.0], [0.0006576271, 3.799, 22.95075, 16.127268, 8.9925, 19.021376, 3.3782501, 53.0, 11.0], [0.00655, 2.1283, 19.60757, 13.726418, 7.6867146, 13.714625, 3.1994, 50.0, 11.0], [0.010797342, 1.4393333, 19.091, 14.165376, 9.254146, 13.97925, 4.4045, 42.0, 10.0], [0.0032599277, 2.5855713, 20.437, 14.743556, 9.042571, 15.738556, 3.8915, 49.0, 11.0], [0.008303279, -1.43875, 12.915667, 8.3084, 4.13375, 9.3431425, 1.6603334, 46.0, 8.0], [0.010759076, 0.459, 17.364374, 11.487072, 5.9410005, 13.497167, 3.4015, 55.0, 12.0], [0.0134160835, 5.06, 23.3355, 13.922001, 4.425, 17.980913, 0.3304, 63.0, 13.0], [0.012188925, 4.1809998, 21.949, 15.056667, 7.9908752, 17.68925, 2.642375, 32.0, 7.0], [0.01215411, -0.33475, 17.117832, 12.363715, 7.685875, 12.3345, 4.0682, 57.0, 14.0], [0.009028572, 4.8650236, 23.331667, 13.930334, 4.8302, 16.273401, 0.47583333, 69.0, 19.0], [0.0021215277, 3.9555001, 22.70325, 16.364084, 9.563251, 18.2485, 3.70375, 31.0, 5.0], [0.0019871246, 1.9223334, 18.045, 11.538, 4.5646667, 12.407249, 0.85975003, 75.0, 20.0], [0.008063973, 2.218357, 20.067001, 13.812668, 7.501917, 16.422667, 3.649625, 45.0, 9.0], [0.0, 8.365666, 23.338333, 18.067001, 13.060667, 17.68925, 1.8, 38.0, 10.0], [0.0, 7.9696, 22.3148, 17.461502, 12.748917, 14.88025, 2.0354, 38.0, 10.0], [0.006770035, 4.039, 20.842001, 15.050251, 9.765233, 14.627334, 3.4842, 31.0, 6.0], [0.001010101, 4.318625, 24.1058, 16.19, 8.0996, 18.94095, 2.1993334, 37.0, 7.0], [0.0016231344, -0.67625, 15.6245, 8.4925, 1.6435001, 10.6075, 1.0318571, 23.0, 3.0], [0.0, 8.3689995, 24.584667, 18.58525, 12.8105, 19.708857, 1.8447499, 31.0, 8.0], [0.00013707165, 5.7211666, 25.907501, 18.632, 11.3068, 21.943, 3.9595, 15.0, 3.0], [0.008063973, 2.218357, 20.067001, 13.812668, 7.501917, 16.422667, 3.649625, 36.0, 7.0], [0.0, 6.799444, 26.352001, 17.59375, 9.304, 22.272251, 1.747875, 38.0, 6.0], [0.0007902622, -0.56266665, 16.095001, 8.43175, 0.74875003, 11.160666, 0.714, 22.0, 3.0], [0.0070714285, 6.2185, 24.95075, 18.086334, 11.179, 18.243, 3.48625, 59.0, 16.0], [0.0, 8.3689995, 24.584667, 18.58525, 12.8105, 19.708857, 1.8447499, 27.0, 5.0], [0.00041721854, 5.815, 23.4445, 16.728668, 9.450334, 15.8645, 2.1855555, 26.0, 6.0], [0.0029745454, -2.6204166, 15.3706665, 6.3820004, -0.948, 11.847, 0.43, 29.0, 5.0], [0.009016892, 0.95633334, 18.6345, 12.5332, 6.306, 15.153714, 3.38425, 60.0, 14.0], [0.010759076, 0.459, 17.364374, 11.487072, 5.9410005, 13.497167, 3.4015, 33.0, 7.0], [0.0007167832, -0.70125, 17.22125, 9.192751, 2.0433333, 13.218834, 1.0189999, 7.0, 1.0], [0.0015033333, 7.174, 25.921, 18.013, 10.045, 19.09625, 1.91675, 34.0, 9.0], [0.0013321429, 4.236125, 22.8814, 15.454751, 7.57, 17.4955, 2.38525, 55.0, 10.0], [0.0006259542, -0.7415, 15.46385, 8.481701, 1.9032, 10.464875, 1.145, 53.0, 10.0], [0.0006259542, -0.7415, 15.46385, 8.481701, 1.9032, 10.464875, 1.145, 26.0, 4.0], [0.0009527027, 2.5955, 20.298, 15.314751, 10.18325, 15.908501, 4.685, 51.0, 10.0], [0.0, 6.799444, 26.352001, 17.59375, 9.304, 22.272251, 1.747875, 36.0, 7.0], [0.0005642857, 4.9428334, 24.496834, 17.623375, 9.781334, 19.213, 3.4661667, 50.0, 10.0], [0.0013321429, 4.236125, 22.8814, 15.454751, 7.57, 17.4955, 2.38525, 58.0, 12.0], [0.01378125, 4.6903334, 22.5942, 14.557001, 6.6932225, 16.962984, 1.35425, 42.0, 9.0], [0.004601246, -4.1335716, 16.13875, 9.86025, 4.0018334, 13.75935, 3.9492, 45.0, 11.0], [0.0017557757, 5.038, 22.44325, 15.577001, 8.566571, 15.001166, 1.9291251, 19.0, 4.0], [0.00975265, 2.031, 20.318, 14.620167, 8.9656, 15.361, 3.8856666, 55.0, 14.0], [0.00496831, 4.2043333, 22.3134, 16.562, 10.414333, 15.603666, 3.8140001, 48.0, 10.0], [0.0041197184, 2.806025, 20.982876, 14.470251, 7.8335, 15.433, 2.76575, 48.0, 8.0], [0.0045473683, 3.1928, 22.6425, 15.873401, 9.077333, 16.989166, 3.336, 49.0, 10.0], [6.644519e-05, 5.0498, 22.484417, 16.052334, 9.0060835, 14.8934, 2.0723333, 36.0, 6.0], [0.0074357144, 4.3821, 21.7, 13.921751, 6.5480003, 15.24325, 1.4117501, 66.0, 19.0], [0.0065218853, 1.9726, 19.6515, 14.688858, 9.4298, 15.640166, 4.6368, 51.0, 10.0], [0.00233213, 4.3785, 22.551, 15.107417, 7.6992226, 16.934, 1.906, 51.0, 10.0], [nan, nan, nan, nan, nan, nan, nan, nan, nan], [0.0005870307, 6.7455, 25.063, 17.29425, 9.168, 19.123749, 1.736, 36.0, 8.0], [0.008531915, 5.0758333, 23.861801, 17.074251, 9.4395, 18.838667, 2.93025, 27.0, 6.0], [0.008919733, 2.2688334, 20.203499, 13.583401, 6.832667, 16.347, 3.1907084, 41.0, 8.0], [0.010079137, 1.6725, 19.607, 13.630751, 7.809, 13.813667, 3.0488, 72.0, 21.0]]\n",
      "[5, 2, 9, 3, 1, 7, 3, 4, 1, 6, 8, 6, 1, 2, 3, 2, 3, 1, 2, 7, 5, 8, 6, 3, 2, 3, 2, 5, 3, 4, 5, 6, 4, 4, 8, 6, 9, 3, 1, 1, 3, 2, 3, 2, 2, 1, 2, 2, 1, 2, 2, 3, 3, 3, 8, 3, 3, 1, 3, 1, 1, 2, 6, 3, 5, 5, 2, 1, 2, 4, 1, 2, 3, 3, 1, 1, 4, 4, 4, 4, 5, 4, 5, 6, 7, 5, 3, 1, 1, 3, 6, 2, 2, 2, 1, 2, 2, 1, 7, 1, 1, 1, 3, 3, 1, 7, 2, 2, 2, 5, 5, 1, 2, 1, 4, 5, 3, 3, 1, 2, 2, 4, 5, 2, 4, 4, 3, 3, 2, 1, 6, 5]\n"
     ]
    }
   ],
   "source": [
    "print(X)\n",
    "print(y)\n",
    "#print(burned_temp_leaf.head())\n",
    "#print(burned_temp_leaf[burned_temp_leaf.index == 1])\n",
    "#print(burned_temp)\n",
    "#index = 0\n",
    "#print(burned_temp_leaf['vpdmin'][index])\n",
    "#print(burned_temp_leaf['BurnDate'][index])\n",
    "#print(burned_temp_leaf['tdmean'][index])\n",
    "#print(burned_temp_leaf['Uncertainty'][index])\n",
    "#print(burned_temp_leaf['system:index'][index])\n"
   ]
  },
  {
   "cell_type": "code",
   "execution_count": 11,
   "metadata": {},
   "outputs": [],
   "source": [
    "from sklearn.model_selection import train_test_split\n",
    "X_train, X_test, y_train, y_test = train_test_split(X, y, test_size=0.25, random_state=42)"
   ]
  },
  {
   "cell_type": "markdown",
   "metadata": {},
   "source": [
    "# Regression"
   ]
  },
  {
   "cell_type": "code",
   "execution_count": 15,
   "metadata": {},
   "outputs": [],
   "source": [
    "from sklearn.linear_model import LogisticRegression\n",
    "lr = LogisticRegression(solver='lbfgs', multi_class='multinomial', max_iter=5000)\n",
    "lr = lr.fit(X_train, y_train)\n",
    "y_pred = lr.predict(X_test)"
   ]
  },
  {
   "cell_type": "code",
   "execution_count": 16,
   "metadata": {},
   "outputs": [
    {
     "data": {
      "text/plain": [
       "0.15151515151515152"
      ]
     },
     "execution_count": 16,
     "metadata": {},
     "output_type": "execute_result"
    }
   ],
   "source": [
    "import numpy as np\n",
    "np.mean(y_pred == y_test)\n",
    "#print(y_pred)"
   ]
  },
  {
   "cell_type": "code",
   "execution_count": 18,
   "metadata": {},
   "outputs": [
    {
     "data": {
      "image/png": "[encoded data removed]",
      "text/plain": [
       "<Figure size 432x288 with 2 Axes>"
      ]
     },
     "metadata": {
      "needs_background": "light"
     },
     "output_type": "display_data"
    }
   ],
   "source": [
    "from sklearn.metrics import confusion_matrix\n",
    "import matplotlib.pyplot as plt\n",
    "from sklearn.utils.multiclass import unique_labels\n",
    "\n",
    "cm = confusion_matrix(y_test, y_pred)\n",
    "\n",
    "# Only uses the labels that appear in the data\n",
    "labels = unique_labels(y_test, y_pred)\n",
    "#print(cm)\n",
    "\n",
    "fig, ax = plt.subplots()\n",
    "im = ax.imshow(cm, interpolation='nearest', cmap=plt.cm.Blues)\n",
    "ax.figure.colorbar(im, ax=ax)\n",
    "ax.set(xticks=np.arange(cm.shape[1]),\n",
    "           yticks=np.arange(cm.shape[0]),\n",
    "           # ... and label them with the respective list entries\n",
    "           xticklabels=labels, yticklabels=labels,\n",
    "           ylabel='True Uncertainty',\n",
    "           xlabel='Predicted Uncertainty')\n",
    "# Rotate the tick labels and set their alignment.\n",
    "plt.setp(ax.get_xticklabels(), rotation=45, ha=\"right\", rotation_mode=\"anchor\")\n",
    "fig.tight_layout()"
   ]
  }
 ],
 "metadata": {
  "kernelspec": {
   "display_name": "Python 3",
   "language": "python",
   "name": "python3"
  },
  "language_info": {
   "codemirror_mode": {
    "name": "ipython",
    "version": 3
   },
   "file_extension": ".py",
   "mimetype": "text/x-python",
   "name": "python",
   "nbconvert_exporter": "python",
   "pygments_lexer": "ipython3",
   "version": "3.7.3"
  }
 },
 "nbformat": 4,
 "nbformat_minor": 2
}
