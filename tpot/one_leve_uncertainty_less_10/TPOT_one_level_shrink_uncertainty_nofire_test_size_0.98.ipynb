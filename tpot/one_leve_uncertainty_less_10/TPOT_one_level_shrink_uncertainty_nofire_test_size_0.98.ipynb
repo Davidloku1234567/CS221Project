{
 "cells": [
  {
   "cell_type": "markdown",
   "metadata": {},
   "source": [
    "dt vs rf vs gb: https://www.datasciencecentral.com/profiles/blogs/decision-tree-vs-random-forest-vs-boosted-trees-explained\n",
    "     rf hyper tune: https://medium.com/all-things-ai/in-depth-parameter-tuning-for-random-forest-d67bb7e920d\n",
    "partial dependency: https://scikit-learn.org/stable/auto_examples/inspection/plot_partial_dependence.html#sphx-glr-auto-examples-inspection-plot-partial-dependence-py\n"
   ]
  },
  {
   "cell_type": "markdown",
   "metadata": {},
   "source": [
    "# Load data from csv files"
   ]
  },
  {
   "cell_type": "code",
   "execution_count": 1,
   "metadata": {},
   "outputs": [],
   "source": [
    "import pandas as pd\n",
    "\n",
    "from sklearn.preprocessing import StandardScaler\n",
    "\n",
    "from sklearn.model_selection import train_test_split\n",
    "from sklearn.utils import shuffle\n",
    "\n",
    "from sklearn.model_selection import GridSearchCV\n",
    "\n",
    "import numpy as np\n",
    "\n",
    "from tpot import TPOTClassifier\n",
    "\n",
    "from sklearn.metrics import confusion_matrix, classification_report\n",
    "import matplotlib.pyplot as plt\n",
    "from sklearn.utils.multiclass import unique_labels\n",
    "\n",
    "from sklearn.inspection import partial_dependence\n",
    "from sklearn.inspection import plot_partial_dependence"
   ]
  },
  {
   "cell_type": "code",
   "execution_count": 2,
   "metadata": {},
   "outputs": [],
   "source": [
    "# Read data from csv files\n",
    "label = pd.read_csv('BurnedArea-100k.csv')\n",
    "elevation = pd.read_csv('Elevation-100k.csv')\n",
    "forest = pd.read_csv('Forest-100k.csv')\n",
    "humanMod = pd.read_csv('HumanModification-100k.csv')\n",
    "leaf = pd.read_csv('LeafArea-100k.csv')\n",
    "rain = pd.read_csv('Precipitation-100k.csv')\n",
    "radiation = pd.read_csv('Radiation-100k.csv')\n",
    "soil = pd.read_csv('SoilType-100k.csv')\n",
    "temp = pd.read_csv('Temperature-100k.csv')"
   ]
  },
  {
   "cell_type": "code",
   "execution_count": 3,
   "metadata": {},
   "outputs": [],
   "source": [
    "# Merge all dataframes via inner join\n",
    "samples = pd.merge(left=elevation, right=forest, left_on='system:index', right_on='system:index')\n",
    "samples = pd.merge(left=samples, right=humanMod, left_on='system:index', right_on='system:index')\n",
    "samples = pd.merge(left=samples, right=leaf, left_on='system:index', right_on='system:index')\n",
    "samples = pd.merge(left=samples, right=rain, left_on='system:index', right_on='system:index')\n",
    "samples = pd.merge(left=samples, right=radiation, left_on='system:index', right_on='system:index')\n",
    "samples = pd.merge(left=samples, right=soil, left_on='system:index', right_on='system:index')\n",
    "samples = pd.merge(left=samples, right=temp, left_on='system:index', right_on='system:index')\n",
    "\n",
    "fireIdx = label.copy()\n",
    "del fireIdx['BurnDate']\n",
    "del fireIdx['FirstDay']\n",
    "del fireIdx['LastDay']\n",
    "del fireIdx['QA']\n",
    "del fireIdx['BurnMonth']"
   ]
  },
  {
   "cell_type": "code",
   "execution_count": 12,
   "metadata": {},
   "outputs": [
    {
     "name": "stdout",
     "output_type": "stream",
     "text": [
      "2     311\n",
      "1     277\n",
      "3     158\n",
      "4     105\n",
      "5      73\n",
      "6      34\n",
      "7      31\n",
      "8      24\n",
      "10     11\n",
      "9       9\n",
      "Name: Uncertainty, dtype: int64\n"
     ]
    }
   ],
   "source": [
    "fireIdx = fireIdx[fireIdx['Uncertainty'] < 11]\n",
    "print(fireIdx['Uncertainty'].value_counts())"
   ]
  },
  {
   "cell_type": "code",
   "execution_count": 13,
   "metadata": {},
   "outputs": [],
   "source": [
    "# Label samples\n",
    "samplesCopy = samples.copy()\n",
    "samplesCopy = pd.merge(left=fireIdx, right=samplesCopy, how='right', left_on='system:index', right_on='system:index')\n",
    "\n",
    "sampleLabel = samplesCopy['Uncertainty'].fillna(100).tolist()\n",
    "firstNoFireIdx = sampleLabel.index(100)\n",
    "\n",
    "# Drop label column\n",
    "del samplesCopy['Uncertainty']\n",
    "# Drop system index\n",
    "del samplesCopy['system:index']\n",
    "samplesList = samplesCopy.values.tolist()\n",
    "# Filter out fire samples\n",
    "fireSamples = samplesList[:firstNoFireIdx]\n",
    "fireUncertain = sampleLabel[:firstNoFireIdx]\n",
    "# Filter out no fire samples\n",
    "noFireSamples = samplesList[firstNoFireIdx:]\n",
    "noFireLabel = sampleLabel[firstNoFireIdx:]\n",
    "\n",
    "# Split the training datasets\n",
    "X_train_fire, X_test_fire, y_train_fire, y_test_fire = train_test_split(fireSamples, fireUncertain, test_size=0.2, random_state=0)\n",
    "X_train_nofire, X_test_nofire, y_train_nofire, y_test_nofire = train_test_split(noFireSamples, noFireLabel, test_size=0.98, random_state=42)\n",
    "\n",
    "X_train = X_train_fire + X_train_nofire\n",
    "y_train = y_train_fire + y_train_nofire\n",
    "X_test = X_test_fire + X_test_nofire\n",
    "y_test = y_test_fire + y_test_nofire\n",
    "\n",
    "X_train, y_train = shuffle(X_train, y_train)"
   ]
  },
  {
   "cell_type": "code",
   "execution_count": 14,
   "metadata": {},
   "outputs": [
    {
     "name": "stdout",
     "output_type": "stream",
     "text": [
      "100.0    79567\n",
      "2.0        307\n",
      "1.0        274\n",
      "3.0        156\n",
      "4.0        102\n",
      "5.0         73\n",
      "6.0         34\n",
      "7.0         31\n",
      "8.0         24\n",
      "10.0        11\n",
      "9.0          9\n",
      "Name: Uncertainty, dtype: int64\n"
     ]
    }
   ],
   "source": [
    "samplesCopy2 = samples.copy()\n",
    "samplesCopy2 = pd.merge(left=fireIdx, right=samplesCopy2, how='right', left_on='system:index', right_on='system:index')\n",
    "\n",
    "sampleLabel2 = samplesCopy2['Uncertainty'].fillna(100)\n",
    "print(sampleLabel2.value_counts())"
   ]
  },
  {
   "cell_type": "code",
   "execution_count": 33,
   "metadata": {},
   "outputs": [
    {
     "name": "stdout",
     "output_type": "stream",
     "text": [
      "840\n",
      "1590\n"
     ]
    }
   ],
   "source": [
    "print(len(y_train_fire))\n",
    "print(len(y_train_nofire))"
   ]
  },
  {
   "cell_type": "markdown",
   "metadata": {},
   "source": [
    "## One-level system"
   ]
  },
  {
   "cell_type": "code",
   "execution_count": null,
   "metadata": {},
   "outputs": [
    {
     "data": {
      "application/vnd.jupyter.widget-view+json": {
       "model_id": "168333bac7114137b0a97812244de358",
       "version_major": 2,
       "version_minor": 0
      },
      "text/plain": [
       "HBox(children=(FloatProgress(value=0.0, description='Optimization Progress', max=600.0, style=ProgressStyle(de…"
      ]
     },
     "metadata": {},
     "output_type": "display_data"
    }
   ],
   "source": [
    "# 'scoring':'average_precision', \n",
    "tpot_param_dist={'generations':5, 'population_size':100, 'warm_start':True, 'memory':'auto', 'verbosity':2, 'random_state':20, 'n_jobs':-1}\n",
    "tpot = TPOTClassifier(**tpot_param_dist)\n",
    "tpot.fit(np.asarray(X_train), np.asarray(y_train))"
   ]
  },
  {
   "cell_type": "code",
   "execution_count": 47,
   "metadata": {},
   "outputs": [
    {
     "name": "stdout",
     "output_type": "stream",
     "text": [
      "0.35071090047393366\n"
     ]
    }
   ],
   "source": [
    "print(tpot.score(np.asarray(X_test_fire), np.asarray(y_test_fire)))"
   ]
  },
  {
   "cell_type": "code",
   "execution_count": 38,
   "metadata": {},
   "outputs": [
    {
     "name": "stdout",
     "output_type": "stream",
     "text": [
      "Pipeline(memory=Memory(location=C:\\Users\\Yi\\AppData\\Local\\Temp\\tmp6nzwpf8p\\joblib),\n",
      "         steps=[('xgbclassifier',\n",
      "                 XGBClassifier(base_score=0.5, booster='gbtree',\n",
      "                               colsample_bylevel=1, colsample_bynode=1,\n",
      "                               colsample_bytree=1, gamma=0, learning_rate=0.1,\n",
      "                               max_delta_step=0, max_depth=10,\n",
      "                               min_child_weight=4, missing=None,\n",
      "                               n_estimators=100, n_jobs=1, nthread=1,\n",
      "                               objective='multi:softprob', random_state=20,\n",
      "                               reg_alpha=0, reg_lambda=1, scale_pos_weight=1,\n",
      "                               seed=None, silent=None,\n",
      "                               subsample=0.6500000000000001, verbosity=1))],\n",
      "         verbose=False)\n"
     ]
    }
   ],
   "source": [
    "print(tpot.fitted_pipeline_)"
   ]
  },
  {
   "cell_type": "markdown",
   "metadata": {},
   "source": [
    "## XGBClassifier"
   ]
  },
  {
   "cell_type": "code",
   "execution_count": 15,
   "metadata": {},
   "outputs": [],
   "source": [
    "import xgboost.sklearn as xgb"
   ]
  },
  {
   "cell_type": "code",
   "execution_count": 40,
   "metadata": {},
   "outputs": [
    {
     "name": "stdout",
     "output_type": "stream",
     "text": [
      "              precision    recall  f1-score   support\n",
      "\n",
      "         1.0       0.35      0.33      0.34        57\n",
      "         2.0       0.58      0.58      0.58        60\n",
      "         3.0       0.50      0.34      0.41        35\n",
      "         4.0       0.42      0.29      0.34        17\n",
      "         5.0       0.27      0.31      0.29        13\n",
      "         6.0       0.00      0.00      0.00        10\n",
      "         7.0       0.50      0.33      0.40         3\n",
      "         8.0       0.00      0.00      0.00         5\n",
      "         9.0       0.00      0.00      0.00         1\n",
      "        10.0       0.00      0.00      0.00         3\n",
      "        11.0       0.00      0.00      0.00         2\n",
      "        12.0       0.00      0.00      0.00         1\n",
      "        15.0       0.00      0.00      0.00         1\n",
      "        16.0       0.00      0.00      0.00         2\n",
      "        23.0       0.00      0.00      0.00         1\n",
      "       100.0       0.00      0.00      0.00         0\n",
      "\n",
      "    accuracy                           0.36       211\n",
      "   macro avg       0.16      0.14      0.15       211\n",
      "weighted avg       0.40      0.36      0.38       211\n",
      "\n"
     ]
    }
   ],
   "source": [
    "param_dist={'learning_rate':0.1, 'max_depth':10, 'min_child_weight':4, 'n_estimators':100, 'nthread':1, 'subsample':0.8}\n",
    "xgb_uncert = xgb.XGBClassifier(**param_dist)\n",
    "xgb_uncert = xgb_uncert.fit(np.asarray(X_train), np.asarray(y_train))\n",
    "y_pred_xgb_uncert = xgb_uncert.predict(X_test_fire)\n",
    "print(classification_report(y_test_fire, y_pred_xgb_uncert))"
   ]
  },
  {
   "cell_type": "code",
   "execution_count": 20,
   "metadata": {},
   "outputs": [
    {
     "name": "stdout",
     "output_type": "stream",
     "text": [
      "              precision    recall  f1-score   support\n",
      "\n",
      "           0       1.00      0.99      1.00     71584\n",
      "           1       0.21      0.82      0.33       211\n",
      "\n",
      "    accuracy                           0.99     71795\n",
      "   macro avg       0.60      0.90      0.66     71795\n",
      "weighted avg       1.00      0.99      0.99     71795\n",
      "\n"
     ]
    }
   ],
   "source": [
    "param_dist={'learning_rate':0.5, 'max_depth':9, 'min_child_weight':2, 'n_estimators':100, 'nthread':1, 'subsample':0.8}\n",
    "xgb_fnf = xgb.XGBClassifier(**param_dist)\n",
    "xgb_fnf = xgb_fnf.fit(np.asarray(X_train), np.asarray(y_train))\n",
    "y_pred_xgb_fnf = xgb_fnf.predict(X_test)\n",
    "print(classification_report(y_test, y_pred_xgb_fnf))"
   ]
  }
 ],
 "metadata": {
  "kernelspec": {
   "display_name": "Python 3",
   "language": "python",
   "name": "python3"
  },
  "language_info": {
   "codemirror_mode": {
    "name": "ipython",
    "version": 3
   },
   "file_extension": ".py",
   "mimetype": "text/x-python",
   "name": "python",
   "nbconvert_exporter": "python",
   "pygments_lexer": "ipython3",
   "version": "3.7.3"
  }
 },
 "nbformat": 4,
 "nbformat_minor": 2
}
