{
 "cells": [
  {
   "cell_type": "markdown",
   "metadata": {},
   "source": [
    "dt vs rf vs gb: https://www.datasciencecentral.com/profiles/blogs/decision-tree-vs-random-forest-vs-boosted-trees-explained\n",
    "     rf hyper tune: https://medium.com/all-things-ai/in-depth-parameter-tuning-for-random-forest-d67bb7e920d\n",
    "partial dependency: https://scikit-learn.org/stable/auto_examples/inspection/plot_partial_dependence.html#sphx-glr-auto-examples-inspection-plot-partial-dependence-py\n"
   ]
  },
  {
   "cell_type": "markdown",
   "metadata": {},
   "source": [
    "# Load data from csv files"
   ]
  },
  {
   "cell_type": "code",
   "execution_count": 1,
   "metadata": {},
   "outputs": [],
   "source": [
    "import pandas as pd\n",
    "\n",
    "from sklearn.preprocessing import StandardScaler\n",
    "\n",
    "from sklearn.model_selection import train_test_split\n",
    "from sklearn.utils import shuffle\n",
    "\n",
    "from sklearn.model_selection import GridSearchCV\n",
    "\n",
    "import numpy as np\n",
    "\n",
    "from tpot import TPOTClassifier\n",
    "\n",
    "import xgboost.sklearn as xgb\n",
    "\n",
    "from sklearn.metrics import confusion_matrix, classification_report\n",
    "import matplotlib.pyplot as plt\n",
    "from sklearn.utils.multiclass import unique_labels\n",
    "\n",
    "from sklearn.inspection import partial_dependence\n",
    "from sklearn.inspection import plot_partial_dependence"
   ]
  },
  {
   "cell_type": "code",
   "execution_count": 2,
   "metadata": {},
   "outputs": [],
   "source": [
    "# Read data from csv files\n",
    "label = pd.read_csv('BurnedArea-100k.csv')\n",
    "elevation = pd.read_csv('Elevation-100k.csv')\n",
    "forest = pd.read_csv('Forest-100k.csv')\n",
    "humanMod = pd.read_csv('HumanModification-100k.csv')\n",
    "leaf = pd.read_csv('LeafArea-100k.csv')\n",
    "rain = pd.read_csv('Precipitation-100k.csv')\n",
    "radiation = pd.read_csv('Radiation-100k.csv')\n",
    "soil = pd.read_csv('SoilType-100k.csv')\n",
    "temp = pd.read_csv('Temperature-100k.csv')"
   ]
  },
  {
   "cell_type": "code",
   "execution_count": 3,
   "metadata": {},
   "outputs": [],
   "source": [
    "# Merge all dataframes via inner join\n",
    "samples = pd.merge(left=elevation, right=forest, left_on='system:index', right_on='system:index')\n",
    "samples = pd.merge(left=samples, right=humanMod, left_on='system:index', right_on='system:index')\n",
    "samples = pd.merge(left=samples, right=leaf, left_on='system:index', right_on='system:index')\n",
    "samples = pd.merge(left=samples, right=rain, left_on='system:index', right_on='system:index')\n",
    "samples = pd.merge(left=samples, right=radiation, left_on='system:index', right_on='system:index')\n",
    "samples = pd.merge(left=samples, right=soil, left_on='system:index', right_on='system:index')\n",
    "samples = pd.merge(left=samples, right=temp, left_on='system:index', right_on='system:index')\n",
    "\n",
    "fireIdx = label.copy()\n",
    "del fireIdx['BurnDate']\n",
    "del fireIdx['FirstDay']\n",
    "del fireIdx['LastDay']\n",
    "del fireIdx['QA']\n",
    "del fireIdx['BurnMonth']"
   ]
  },
  {
   "cell_type": "code",
   "execution_count": 12,
   "metadata": {},
   "outputs": [
    {
     "name": "stdout",
     "output_type": "stream",
     "text": [
      "2     311\n",
      "1     277\n",
      "3     158\n",
      "4     105\n",
      "5      73\n",
      "6      34\n",
      "7      31\n",
      "8      24\n",
      "10     11\n",
      "9       9\n",
      "Name: Uncertainty, dtype: int64\n"
     ]
    }
   ],
   "source": [
    "# Mask out fire uncertainty larger than 10\n",
    "fireIdx = fireIdx[fireIdx['Uncertainty'] < 11]\n",
    "print(fireIdx['Uncertainty'].value_counts())"
   ]
  },
  {
   "cell_type": "code",
   "execution_count": 13,
   "metadata": {},
   "outputs": [],
   "source": [
    "# Label samples\n",
    "samplesCopy = samples.copy()\n",
    "samplesCopy = pd.merge(left=fireIdx, right=samplesCopy, how='right', left_on='system:index', right_on='system:index')\n",
    "\n",
    "sampleLabel = samplesCopy['Uncertainty'].fillna(100).tolist()\n",
    "firstNoFireIdx = sampleLabel.index(100)\n",
    "\n",
    "# Drop label column\n",
    "del samplesCopy['Uncertainty']\n",
    "# Drop system index\n",
    "del samplesCopy['system:index']\n",
    "samplesList = samplesCopy.values.tolist()\n",
    "# Filter out fire samples\n",
    "fireSamples = samplesList[:firstNoFireIdx]\n",
    "fireUncertain = sampleLabel[:firstNoFireIdx]\n",
    "# Filter out no fire samples\n",
    "noFireSamples = samplesList[firstNoFireIdx:]\n",
    "noFireLabel = sampleLabel[firstNoFireIdx:]\n",
    "\n",
    "# Split the training datasets\n",
    "X_train_fire, X_test_fire, y_train_fire, y_test_fire = train_test_split(fireSamples, fireUncertain, test_size=0.2, random_state=0)\n",
    "X_train_nofire, X_test_nofire, y_train_nofire, y_test_nofire = train_test_split(noFireSamples, noFireLabel, test_size=0.98, random_state=42)\n",
    "\n",
    "X_train = X_train_fire + X_train_nofire\n",
    "y_train = y_train_fire + y_train_nofire\n",
    "X_test = X_test_fire + X_test_nofire\n",
    "y_test = y_test_fire + y_test_nofire\n",
    "\n",
    "X_train, y_train = shuffle(X_train, y_train)"
   ]
  },
  {
   "cell_type": "code",
   "execution_count": 14,
   "metadata": {},
   "outputs": [
    {
     "name": "stdout",
     "output_type": "stream",
     "text": [
      "100.0    79567\n",
      "2.0        307\n",
      "1.0        274\n",
      "3.0        156\n",
      "4.0        102\n",
      "5.0         73\n",
      "6.0         34\n",
      "7.0         31\n",
      "8.0         24\n",
      "10.0        11\n",
      "9.0          9\n",
      "Name: Uncertainty, dtype: int64\n"
     ]
    }
   ],
   "source": [
    "samplesCopy2 = samples.copy()\n",
    "samplesCopy2 = pd.merge(left=fireIdx, right=samplesCopy2, how='right', left_on='system:index', right_on='system:index')\n",
    "\n",
    "sampleLabel2 = samplesCopy2['Uncertainty'].fillna(100)\n",
    "print(sampleLabel2.value_counts())"
   ]
  },
  {
   "cell_type": "code",
   "execution_count": 33,
   "metadata": {},
   "outputs": [
    {
     "name": "stdout",
     "output_type": "stream",
     "text": [
      "840\n",
      "1590\n"
     ]
    }
   ],
   "source": [
    "print(len(y_train_fire))\n",
    "print(len(y_train_nofire))"
   ]
  },
  {
   "cell_type": "markdown",
   "metadata": {},
   "source": [
    "## One-level system"
   ]
  },
  {
   "cell_type": "code",
   "execution_count": 15,
   "metadata": {},
   "outputs": [
    {
     "data": {
      "application/vnd.jupyter.widget-view+json": {
       "model_id": "",
       "version_major": 2,
       "version_minor": 0
      },
      "text/plain": [
       "HBox(children=(FloatProgress(value=0.0, description='Optimization Progress', max=600.0, style=ProgressStyle(de…"
      ]
     },
     "metadata": {},
     "output_type": "display_data"
    },
    {
     "name": "stdout",
     "output_type": "stream",
     "text": [
      "Generation 1 - Current best internal CV score: 0.7756708103067117\n",
      "Generation 2 - Current best internal CV score: 0.7756708103067117\n",
      "Generation 3 - Current best internal CV score: 0.7756708103067117\n",
      "Generation 4 - Current best internal CV score: 0.7756708103067117\n",
      "Generation 5 - Current best internal CV score: 0.7756708103067117\n",
      "\n",
      "Best pipeline: XGBClassifier(input_matrix, learning_rate=0.5, max_depth=10, min_child_weight=4, n_estimators=100, nthread=1, subsample=0.55)\n"
     ]
    },
    {
     "data": {
      "text/plain": [
       "TPOTClassifier(config_dict=None, crossover_rate=0.1, cv=5,\n",
       "               disable_update_check=False, early_stop=None, generations=5,\n",
       "               max_eval_time_mins=5, max_time_mins=None, memory='auto',\n",
       "               mutation_rate=0.9, n_jobs=-1, offspring_size=None,\n",
       "               periodic_checkpoint_folder=None, population_size=100,\n",
       "               random_state=20, scoring=None, subsample=1.0, template=None,\n",
       "               use_dask=False, verbosity=2, warm_start=True)"
      ]
     },
     "execution_count": 15,
     "metadata": {},
     "output_type": "execute_result"
    }
   ],
   "source": [
    "# 'scoring':'average_precision', \n",
    "tpot_param_dist={'generations':5, 'population_size':100, 'warm_start':True, 'memory':'auto', 'verbosity':2, 'random_state':20, 'n_jobs':-1}\n",
    "tpot = TPOTClassifier(**tpot_param_dist)\n",
    "tpot.fit(np.asarray(X_train), np.asarray(y_train))"
   ]
  },
  {
   "cell_type": "code",
   "execution_count": 16,
   "metadata": {},
   "outputs": [
    {
     "name": "stdout",
     "output_type": "stream",
     "text": [
      "0.3804878048780488\n"
     ]
    }
   ],
   "source": [
    "print(tpot.score(np.asarray(X_test_fire), np.asarray(y_test_fire)))"
   ]
  },
  {
   "cell_type": "code",
   "execution_count": 38,
   "metadata": {},
   "outputs": [
    {
     "name": "stdout",
     "output_type": "stream",
     "text": [
      "Pipeline(memory=Memory(location=C:\\Users\\Yi\\AppData\\Local\\Temp\\tmp6nzwpf8p\\joblib),\n",
      "         steps=[('xgbclassifier',\n",
      "                 XGBClassifier(base_score=0.5, booster='gbtree',\n",
      "                               colsample_bylevel=1, colsample_bynode=1,\n",
      "                               colsample_bytree=1, gamma=0, learning_rate=0.1,\n",
      "                               max_delta_step=0, max_depth=10,\n",
      "                               min_child_weight=4, missing=None,\n",
      "                               n_estimators=100, n_jobs=1, nthread=1,\n",
      "                               objective='multi:softprob', random_state=20,\n",
      "                               reg_alpha=0, reg_lambda=1, scale_pos_weight=1,\n",
      "                               seed=None, silent=None,\n",
      "                               subsample=0.6500000000000001, verbosity=1))],\n",
      "         verbose=False)\n"
     ]
    }
   ],
   "source": [
    "print(tpot.fitted_pipeline_)"
   ]
  },
  {
   "cell_type": "markdown",
   "metadata": {},
   "source": [
    "## XGBClassifier"
   ]
  },
  {
   "cell_type": "code",
   "execution_count": 20,
   "metadata": {},
   "outputs": [
    {
     "name": "stdout",
     "output_type": "stream",
     "text": [
      "              precision    recall  f1-score   support\n",
      "\n",
      "         1.0       0.02      0.41      0.04        54\n",
      "         2.0       0.05      0.55      0.09        62\n",
      "         3.0       0.04      0.31      0.06        29\n",
      "         4.0       0.04      0.35      0.08        23\n",
      "         5.0       0.05      0.24      0.08        17\n",
      "         6.0       0.00      0.00      0.00         8\n",
      "         7.0       0.05      0.25      0.08         8\n",
      "         8.0       0.00      0.00      0.00         2\n",
      "         9.0       0.00      0.00      0.00         2\n",
      "        10.0       0.00      0.00      0.00         0\n",
      "       100.0       1.00      0.97      0.99     77976\n",
      "\n",
      "    accuracy                           0.97     78181\n",
      "   macro avg       0.11      0.28      0.13     78181\n",
      "weighted avg       1.00      0.97      0.98     78181\n",
      "\n"
     ]
    }
   ],
   "source": [
    "param_dist={'learning_rate':0.5, 'max_depth':10, 'min_child_weight':4, 'n_estimators':100, 'nthread':1, 'subsample':0.8}\n",
    "xgb_uncert = xgb.XGBClassifier(**param_dist)\n",
    "xgb_uncert = xgb_uncert.fit(np.asarray(X_train), np.asarray(y_train))"
   ]
  },
  {
   "cell_type": "code",
   "execution_count": 21,
   "metadata": {},
   "outputs": [
    {
     "name": "stdout",
     "output_type": "stream",
     "text": [
      "              precision    recall  f1-score   support\n",
      "\n",
      "         1.0       0.52      0.41      0.46        54\n",
      "         2.0       0.59      0.55      0.57        62\n",
      "         3.0       0.45      0.31      0.37        29\n",
      "         4.0       0.40      0.35      0.37        23\n",
      "         5.0       0.31      0.24      0.27        17\n",
      "         6.0       0.00      0.00      0.00         8\n",
      "         7.0       0.50      0.25      0.33         8\n",
      "         8.0       0.00      0.00      0.00         2\n",
      "         9.0       0.00      0.00      0.00         2\n",
      "        10.0       0.00      0.00      0.00         0\n",
      "       100.0       0.00      0.00      0.00         0\n",
      "\n",
      "    accuracy                           0.39       205\n",
      "   macro avg       0.25      0.19      0.21       205\n",
      "weighted avg       0.47      0.39      0.42       205\n",
      "\n"
     ]
    }
   ],
   "source": [
    "y_pred_xgb_uncert = xgb_uncert.predict(X_test_fire)\n",
    "print(classification_report(y_test_fire, y_pred_xgb_uncert))"
   ]
  }
 ],
 "metadata": {
  "kernelspec": {
   "display_name": "Python 3",
   "language": "python",
   "name": "python3"
  },
  "language_info": {
   "codemirror_mode": {
    "name": "ipython",
    "version": 3
   },
   "file_extension": ".py",
   "mimetype": "text/x-python",
   "name": "python",
   "nbconvert_exporter": "python",
   "pygments_lexer": "ipython3",
   "version": "3.7.3"
  }
 },
 "nbformat": 4,
 "nbformat_minor": 2
}
