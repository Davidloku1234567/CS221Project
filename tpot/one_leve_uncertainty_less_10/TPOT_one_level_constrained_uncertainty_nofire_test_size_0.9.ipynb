{
 "cells": [
  {
   "cell_type": "markdown",
   "metadata": {},
   "source": [
    "dt vs rf vs gb: https://www.datasciencecentral.com/profiles/blogs/decision-tree-vs-random-forest-vs-boosted-trees-explained\n",
    "     rf hyper tune: https://medium.com/all-things-ai/in-depth-parameter-tuning-for-random-forest-d67bb7e920d\n",
    "partial dependency: https://scikit-learn.org/stable/auto_examples/inspection/plot_partial_dependence.html#sphx-glr-auto-examples-inspection-plot-partial-dependence-py\n"
   ]
  },
  {
   "cell_type": "markdown",
   "metadata": {},
   "source": [
    "# Load data from csv files"
   ]
  },
  {
   "cell_type": "code",
   "execution_count": 1,
   "metadata": {},
   "outputs": [],
   "source": [
    "import pandas as pd\n",
    "\n",
    "from sklearn.preprocessing import StandardScaler\n",
    "\n",
    "from sklearn.model_selection import train_test_split\n",
    "from sklearn.utils import shuffle\n",
    "\n",
    "from sklearn.model_selection import GridSearchCV\n",
    "\n",
    "import numpy as np\n",
    "\n",
    "from tpot import TPOTClassifier\n",
    "\n",
    "from sklearn.metrics import confusion_matrix, classification_report\n",
    "import matplotlib.pyplot as plt\n",
    "from sklearn.utils.multiclass import unique_labels\n",
    "\n",
    "from sklearn.inspection import partial_dependence\n",
    "from sklearn.inspection import plot_partial_dependence"
   ]
  },
  {
   "cell_type": "code",
   "execution_count": 2,
   "metadata": {},
   "outputs": [],
   "source": [
    "# Read data from csv files\n",
    "label = pd.read_csv('BurnedArea-100k.csv')\n",
    "elevation = pd.read_csv('Elevation-100k.csv')\n",
    "forest = pd.read_csv('Forest-100k.csv')\n",
    "humanMod = pd.read_csv('HumanModification-100k.csv')\n",
    "leaf = pd.read_csv('LeafArea-100k.csv')\n",
    "rain = pd.read_csv('Precipitation-100k.csv')\n",
    "radiation = pd.read_csv('Radiation-100k.csv')\n",
    "soil = pd.read_csv('SoilType-100k.csv')\n",
    "temp = pd.read_csv('Temperature-100k.csv')"
   ]
  },
  {
   "cell_type": "code",
   "execution_count": 3,
   "metadata": {},
   "outputs": [],
   "source": [
    "# Merge all dataframes via inner join\n",
    "samples = pd.merge(left=elevation, right=forest, left_on='system:index', right_on='system:index')\n",
    "samples = pd.merge(left=samples, right=humanMod, left_on='system:index', right_on='system:index')\n",
    "samples = pd.merge(left=samples, right=leaf, left_on='system:index', right_on='system:index')\n",
    "samples = pd.merge(left=samples, right=rain, left_on='system:index', right_on='system:index')\n",
    "samples = pd.merge(left=samples, right=radiation, left_on='system:index', right_on='system:index')\n",
    "samples = pd.merge(left=samples, right=soil, left_on='system:index', right_on='system:index')\n",
    "samples = pd.merge(left=samples, right=temp, left_on='system:index', right_on='system:index')\n",
    "\n",
    "fireIdx = label.copy()\n",
    "del fireIdx['BurnDate']\n",
    "del fireIdx['FirstDay']\n",
    "del fireIdx['LastDay']\n",
    "del fireIdx['QA']\n",
    "del fireIdx['BurnMonth']"
   ]
  },
  {
   "cell_type": "code",
   "execution_count": 4,
   "metadata": {},
   "outputs": [
    {
     "name": "stdout",
     "output_type": "stream",
     "text": [
      "2     311\n",
      "1     277\n",
      "3     158\n",
      "4     105\n",
      "5      73\n",
      "6      34\n",
      "7      31\n",
      "8      24\n",
      "10     11\n",
      "9       9\n",
      "Name: Uncertainty, dtype: int64\n"
     ]
    }
   ],
   "source": [
    "fireIdx = fireIdx[fireIdx['Uncertainty'] < 11]\n",
    "print(fireIdx['Uncertainty'].value_counts())"
   ]
  },
  {
   "cell_type": "code",
   "execution_count": 5,
   "metadata": {},
   "outputs": [],
   "source": [
    "# Label samples\n",
    "samplesCopy = samples.copy()\n",
    "samplesCopy = pd.merge(left=fireIdx, right=samplesCopy, how='right', left_on='system:index', right_on='system:index')\n",
    "\n",
    "sampleLabel = samplesCopy['Uncertainty'].fillna(100).tolist()\n",
    "firstNoFireIdx = sampleLabel.index(100)\n",
    "\n",
    "# Drop label column\n",
    "del samplesCopy['Uncertainty']\n",
    "# Drop system index\n",
    "del samplesCopy['system:index']\n",
    "samplesList = samplesCopy.values.tolist()\n",
    "# Filter out fire samples\n",
    "fireSamples = samplesList[:firstNoFireIdx]\n",
    "fireUncertain = sampleLabel[:firstNoFireIdx]\n",
    "# Filter out no fire samples\n",
    "noFireSamples = samplesList[firstNoFireIdx:]\n",
    "noFireLabel = sampleLabel[firstNoFireIdx:]\n",
    "\n",
    "# Split the training datasets\n",
    "X_train_fire, X_test_fire, y_train_fire, y_test_fire = train_test_split(fireSamples, fireUncertain, test_size=0.2, random_state=0)\n",
    "X_train_nofire, X_test_nofire, y_train_nofire, y_test_nofire = train_test_split(noFireSamples, noFireLabel, test_size=0.9, random_state=42)\n",
    "\n",
    "X_train = X_train_fire + X_train_nofire\n",
    "y_train = y_train_fire + y_train_nofire\n",
    "X_test = X_test_fire + X_test_nofire\n",
    "y_test = y_test_fire + y_test_nofire\n",
    "\n",
    "X_train, y_train = shuffle(X_train, y_train)"
   ]
  },
  {
   "cell_type": "code",
   "execution_count": 6,
   "metadata": {},
   "outputs": [
    {
     "name": "stdout",
     "output_type": "stream",
     "text": [
      "100.0    79567\n",
      "2.0        307\n",
      "1.0        274\n",
      "3.0        156\n",
      "4.0        102\n",
      "5.0         73\n",
      "6.0         34\n",
      "7.0         31\n",
      "8.0         24\n",
      "10.0        11\n",
      "9.0          9\n",
      "Name: Uncertainty, dtype: int64\n"
     ]
    }
   ],
   "source": [
    "samplesCopy2 = samples.copy()\n",
    "samplesCopy2 = pd.merge(left=fireIdx, right=samplesCopy2, how='right', left_on='system:index', right_on='system:index')\n",
    "\n",
    "sampleLabel2 = samplesCopy2['Uncertainty'].fillna(100)\n",
    "print(sampleLabel2.value_counts())"
   ]
  },
  {
   "cell_type": "code",
   "execution_count": 33,
   "metadata": {},
   "outputs": [
    {
     "name": "stdout",
     "output_type": "stream",
     "text": [
      "840\n",
      "1590\n"
     ]
    }
   ],
   "source": [
    "print(len(y_train_fire))\n",
    "print(len(y_train_nofire))"
   ]
  },
  {
   "cell_type": "markdown",
   "metadata": {},
   "source": [
    "## One-level system"
   ]
  },
  {
   "cell_type": "code",
   "execution_count": 7,
   "metadata": {},
   "outputs": [
    {
     "data": {
      "application/vnd.jupyter.widget-view+json": {
       "model_id": "",
       "version_major": 2,
       "version_minor": 0
      },
      "text/plain": [
       "HBox(children=(IntProgress(value=0, description='Optimization Progress', max=600, style=ProgressStyle(descript…"
      ]
     },
     "metadata": {},
     "output_type": "display_data"
    },
    {
     "name": "stdout",
     "output_type": "stream",
     "text": [
      "Generation 1 - Current best internal CV score: 0.9321764052488642\n",
      "Generation 2 - Current best internal CV score: 0.932750361349091\n",
      "Generation 3 - Current best internal CV score: 0.932750361349091\n",
      "Generation 4 - Current best internal CV score: 0.932750361349091\n",
      "Generation 5 - Current best internal CV score: 0.932750361349091\n",
      "\n",
      "Best pipeline: XGBClassifier(BernoulliNB(input_matrix, alpha=10.0, fit_prior=False), learning_rate=1.0, max_depth=9, min_child_weight=7, n_estimators=100, nthread=1, subsample=1.0)\n"
     ]
    },
    {
     "data": {
      "text/plain": [
       "TPOTClassifier(config_dict=None, crossover_rate=0.1, cv=5,\n",
       "               disable_update_check=False, early_stop=None, generations=5,\n",
       "               max_eval_time_mins=5, max_time_mins=None, memory='auto',\n",
       "               mutation_rate=0.9, n_jobs=-1, offspring_size=None,\n",
       "               periodic_checkpoint_folder=None, population_size=100,\n",
       "               random_state=20, scoring=None, subsample=1.0, template=None,\n",
       "               use_dask=False, verbosity=2, warm_start=True)"
      ]
     },
     "execution_count": 7,
     "metadata": {},
     "output_type": "execute_result"
    }
   ],
   "source": [
    "# 'scoring':'average_precision', \n",
    "tpot_param_dist={'generations':5, 'population_size':100, 'warm_start':True, 'memory':'auto', 'verbosity':2, 'random_state':20, 'n_jobs':-1}\n",
    "tpot = TPOTClassifier(**tpot_param_dist)\n",
    "tpot.fit(np.asarray(X_train), np.asarray(y_train))"
   ]
  },
  {
   "cell_type": "code",
   "execution_count": 47,
   "metadata": {},
   "outputs": [
    {
     "name": "stdout",
     "output_type": "stream",
     "text": [
      "0.35071090047393366\n"
     ]
    }
   ],
   "source": [
    "print(tpot.score(np.asarray(X_test_fire), np.asarray(y_test_fire)))"
   ]
  },
  {
   "cell_type": "code",
   "execution_count": 8,
   "metadata": {},
   "outputs": [
    {
     "name": "stdout",
     "output_type": "stream",
     "text": [
      "Pipeline(memory=Memory(location=C:\\Users\\Lenovo\\AppData\\Local\\Temp\\tmpp07_4aq1\\joblib),\n",
      "         steps=[('stackingestimator',\n",
      "                 StackingEstimator(estimator=BernoulliNB(alpha=10.0,\n",
      "                                                         binarize=0.0,\n",
      "                                                         class_prior=None,\n",
      "                                                         fit_prior=False))),\n",
      "                ('xgbclassifier',\n",
      "                 XGBClassifier(base_score=0.5, booster='gbtree',\n",
      "                               colsample_bylevel=1, colsample_bynode=1,\n",
      "                               colsample_bytree=1, gamma=0, learning_rate=1.0,\n",
      "                               max_delta_step=0, max_depth=9,\n",
      "                               min_child_weight=7, missing=None,\n",
      "                               n_estimators=100, n_jobs=1, nthread=1,\n",
      "                               objective='multi:softprob', random_state=20,\n",
      "                               reg_alpha=0, reg_lambda=1, scale_pos_weight=1,\n",
      "                               seed=None, silent=None, subsample=1.0,\n",
      "                               verbosity=1))],\n",
      "         verbose=False)\n"
     ]
    }
   ],
   "source": [
    "print(tpot.fitted_pipeline_)"
   ]
  },
  {
   "cell_type": "code",
   "execution_count": 9,
   "metadata": {},
   "outputs": [],
   "source": [
    "tpot.export('tpot_constrained_fire_uncertain_pipeline.py')"
   ]
  },
  {
   "cell_type": "markdown",
   "metadata": {},
   "source": [
    "## Stacking Classifiers"
   ]
  },
  {
   "cell_type": "code",
   "execution_count": 10,
   "metadata": {},
   "outputs": [],
   "source": [
    "from sklearn.naive_bayes import BernoulliNB\n",
    "from sklearn.pipeline import make_pipeline, make_union\n",
    "from tpot.builtins import StackingEstimator\n",
    "from xgboost import XGBClassifier\n",
    "from tpot.export_utils import set_param_recursive"
   ]
  },
  {
   "cell_type": "code",
   "execution_count": 11,
   "metadata": {},
   "outputs": [],
   "source": [
    "# Average CV score on the training set was: 0.932750361349091\n",
    "exported_pipeline = make_pipeline(\n",
    "    StackingEstimator(estimator=BernoulliNB(alpha=10.0, fit_prior=False)),\n",
    "    XGBClassifier(learning_rate=1.0, max_depth=9, min_child_weight=7, n_estimators=100, nthread=1, subsample=1.0)\n",
    ")\n",
    "# Fix random state for all the steps in exported pipeline\n",
    "set_param_recursive(exported_pipeline.steps, 'random_state', 20)\n",
    "\n",
    "exported_pipeline.fit(X_train, y_train)\n",
    "results = exported_pipeline.predict(X_test_fire)"
   ]
  },
  {
   "cell_type": "code",
   "execution_count": 12,
   "metadata": {},
   "outputs": [
    {
     "name": "stderr",
     "output_type": "stream",
     "text": [
      "C:\\Users\\Lenovo\\Anaconda3\\lib\\site-packages\\sklearn\\metrics\\classification.py:1439: UndefinedMetricWarning: Recall and F-score are ill-defined and being set to 0.0 in labels with no true samples.\n",
      "  'recall', 'true', average, warn_for)\n"
     ]
    },
    {
     "name": "stdout",
     "output_type": "stream",
     "text": [
      "              precision    recall  f1-score   support\n",
      "\n",
      "         1.0       0.53      0.33      0.41        54\n",
      "         2.0       0.71      0.56      0.63        62\n",
      "         3.0       0.50      0.34      0.41        29\n",
      "         4.0       0.31      0.22      0.26        23\n",
      "         5.0       0.33      0.18      0.23        17\n",
      "         6.0       0.14      0.12      0.13         8\n",
      "         7.0       0.33      0.25      0.29         8\n",
      "         8.0       0.00      0.00      0.00         2\n",
      "         9.0       0.00      0.00      0.00         2\n",
      "        10.0       0.00      0.00      0.00         0\n",
      "       100.0       0.00      0.00      0.00         0\n",
      "\n",
      "    accuracy                           0.36       205\n",
      "   macro avg       0.26      0.18      0.21       205\n",
      "weighted avg       0.51      0.36      0.42       205\n",
      "\n"
     ]
    }
   ],
   "source": [
    "print(classification_report(y_test_fire, results))"
   ]
  }
 ],
 "metadata": {
  "kernelspec": {
   "display_name": "Python 3",
   "language": "python",
   "name": "python3"
  },
  "language_info": {
   "codemirror_mode": {
    "name": "ipython",
    "version": 3
   },
   "file_extension": ".py",
   "mimetype": "text/x-python",
   "name": "python",
   "nbconvert_exporter": "python",
   "pygments_lexer": "ipython3",
   "version": "3.7.4"
  }
 },
 "nbformat": 4,
 "nbformat_minor": 2
}
